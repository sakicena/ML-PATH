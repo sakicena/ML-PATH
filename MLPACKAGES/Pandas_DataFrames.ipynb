{
 "cells": [
  {
   "cell_type": "code",
   "execution_count": 1,
   "metadata": {},
   "outputs": [
    {
     "data": {
      "text/html": [
       "<div>\n",
       "<style scoped>\n",
       "    .dataframe tbody tr th:only-of-type {\n",
       "        vertical-align: middle;\n",
       "    }\n",
       "\n",
       "    .dataframe tbody tr th {\n",
       "        vertical-align: top;\n",
       "    }\n",
       "\n",
       "    .dataframe thead th {\n",
       "        text-align: right;\n",
       "    }\n",
       "</style>\n",
       "<table border=\"1\" class=\"dataframe\">\n",
       "  <thead>\n",
       "    <tr style=\"text-align: right;\">\n",
       "      <th></th>\n",
       "      <th>Marks</th>\n",
       "      <th>Name</th>\n",
       "      <th>Extras</th>\n",
       "    </tr>\n",
       "  </thead>\n",
       "  <tbody>\n",
       "    <tr>\n",
       "      <th>A</th>\n",
       "      <td>52</td>\n",
       "      <td>Krishna</td>\n",
       "      <td>81.0</td>\n",
       "    </tr>\n",
       "    <tr>\n",
       "      <th>B</th>\n",
       "      <td>85</td>\n",
       "      <td>Sai</td>\n",
       "      <td>90.0</td>\n",
       "    </tr>\n",
       "    <tr>\n",
       "      <th>C</th>\n",
       "      <td>65</td>\n",
       "      <td>Venkatesh</td>\n",
       "      <td>NaN</td>\n",
       "    </tr>\n",
       "    <tr>\n",
       "      <th>D</th>\n",
       "      <td>75</td>\n",
       "      <td>Bhargav</td>\n",
       "      <td>NaN</td>\n",
       "    </tr>\n",
       "  </tbody>\n",
       "</table>\n",
       "</div>"
      ],
      "text/plain": [
       "   Marks       Name  Extras\n",
       "A     52    Krishna    81.0\n",
       "B     85        Sai    90.0\n",
       "C     65  Venkatesh     NaN\n",
       "D     75    Bhargav     NaN"
      ]
     },
     "execution_count": 1,
     "metadata": {},
     "output_type": "execute_result"
    }
   ],
   "source": [
    "#Column Operations\n",
    "import numpy as np\n",
    "import pandas as pd\n",
    "s1=pd.Series(['Krishna','Sai','Venkatesh','Bhargav'],index=['A','B','C','D'])\n",
    "s2=pd.Series([52,85,65,75],index=['A','B','C','D'])\n",
    "frame={'Name':s1,'Marks':s2}\n",
    "df=pd.DataFrame(frame)\n",
    "s3=pd.Series([81,90],index=['A','B'])\n",
    "df['Extras']=s3\n",
    "df['Total']=df['Marks']+df['Extras']\n",
    "df['T']=df['Total']+df['Extras']\n",
    "df\n",
    "del df['Total']\n",
    "df.pop('T')\n",
    "df"
   ]
  },
  {
   "cell_type": "code",
   "execution_count": 2,
   "metadata": {},
   "outputs": [
    {
     "name": "stdout",
     "output_type": "stream",
     "text": [
      "<class 'pandas.core.frame.DataFrame'>\n",
      "RangeIndex: 6 entries, 0 to 5\n",
      "Data columns (total 3 columns):\n",
      "Age      6 non-null int64\n",
      "Marks    6 non-null int64\n",
      "Name     6 non-null object\n",
      "dtypes: int64(2), object(1)\n",
      "memory usage: 224.0+ bytes\n"
     ]
    }
   ],
   "source": [
    "#Row Operations\n",
    "import numpy as np\n",
    "import pandas as pd\n",
    "s1=pd.Series(['Krishna','Sai','Venkatesh','Bhargav'],index=np.arange(0,len(s1)) )\n",
    "s2=pd.Series([92,85,65,75])\n",
    "frame={'Name':s1,'Marks':s2}\n",
    "df=pd.DataFrame(frame)\n",
    "df['Age']=pd.Series([24,22,16,18])\n",
    "# print(df.iloc[1],df.loc[1],sep='\\n')\n",
    "\n",
    "#append operation on dataframes\n",
    "\n",
    "df2=pd.DataFrame([['Srikanth',87,21],['Pavan',81,21]],columns=['Name','Marks','Age'])\n",
    "df=df.append(df2,ignore_index=True)\n",
    "df.info()"
   ]
  },
  {
   "cell_type": "code",
   "execution_count": 3,
   "metadata": {},
   "outputs": [
    {
     "data": {
      "text/plain": [
       "1    22\n",
       "2    25\n",
       "3    24\n",
       "Name: Age, dtype: int64"
      ]
     },
     "execution_count": 3,
     "metadata": {},
     "output_type": "execute_result"
    }
   ],
   "source": [
    "#standard deviation for dataframe\n",
    "import numpy as np\n",
    "import pandas as pd\n",
    "info={\n",
    "    'Name':['Krishna','Hhahha','xXHJ'],\n",
    "    'Age':[22,25,24],\n",
    "    'salary':[22000,24000,21000]\n",
    "}\n",
    "a=pd.DataFrame(info,index=np.arange(1,len(info)+1))\n",
    "a.Age"
   ]
  },
  {
   "cell_type": "code",
   "execution_count": 4,
   "metadata": {},
   "outputs": [
    {
     "data": {
      "text/plain": [
       "'0.22.0'"
      ]
     },
     "execution_count": 4,
     "metadata": {},
     "output_type": "execute_result"
    }
   ],
   "source": [
    "pd.__version__\n"
   ]
  },
  {
   "cell_type": "code",
   "execution_count": 5,
   "metadata": {},
   "outputs": [
    {
     "data": {
      "text/plain": [
       "0    2\n",
       "1    3\n",
       "2    4\n",
       "3    5\n",
       "4    6\n",
       "dtype: int64"
      ]
     },
     "execution_count": 5,
     "metadata": {},
     "output_type": "execute_result"
    }
   ],
   "source": [
    "import numpy as np\n",
    "import pandas as pd\n",
    "def adder(c1,c2):\n",
    "    return c1+c2\n",
    "a=pd.Series([1,2,3,4,5])\n",
    "a.pipe(adder,1)"
   ]
  },
  {
   "cell_type": "code",
   "execution_count": 6,
   "metadata": {},
   "outputs": [
    {
     "name": "stdout",
     "output_type": "stream",
     "text": [
      "   8  5  9  2\n",
      "5  4  3  2  1\n",
      "2  1  2  3  4\n",
      "7  8  7  6  5\n",
      "4  5  6  7  8\n",
      "   8  5  9  2\n",
      "5  5  4  3  2\n",
      "2  2  3  4  5\n",
      "7  9  8  7  6\n",
      "4  6  7  8  9\n",
      "    8   5   9   2\n",
      "5  25  16   9   4\n",
      "2   4   9  16  25\n",
      "7  81  64  49  36\n",
      "4  36  49  64  81\n",
      "     8    5    9    2\n",
      "5  250  160   90   40\n",
      "2   40   90  160  250\n",
      "7  810  640  490  360\n",
      "4  360  490  640  810\n",
      "\n",
      "\n",
      "Pandas(Index=5, _1=250, _2=160, _3=90, _4=40)\n",
      "Pandas(Index=2, _1=40, _2=90, _3=160, _4=250)\n",
      "Pandas(Index=7, _1=810, _2=640, _3=490, _4=360)\n",
      "Pandas(Index=4, _1=360, _2=490, _3=640, _4=810)\n"
     ]
    },
    {
     "data": {
      "text/html": [
       "<div>\n",
       "<style scoped>\n",
       "    .dataframe tbody tr th:only-of-type {\n",
       "        vertical-align: middle;\n",
       "    }\n",
       "\n",
       "    .dataframe tbody tr th {\n",
       "        vertical-align: top;\n",
       "    }\n",
       "\n",
       "    .dataframe thead th {\n",
       "        text-align: right;\n",
       "    }\n",
       "</style>\n",
       "<table border=\"1\" class=\"dataframe\">\n",
       "  <thead>\n",
       "    <tr style=\"text-align: right;\">\n",
       "      <th></th>\n",
       "      <th>9</th>\n",
       "      <th>8</th>\n",
       "      <th>5</th>\n",
       "      <th>2</th>\n",
       "    </tr>\n",
       "  </thead>\n",
       "  <tbody>\n",
       "    <tr>\n",
       "      <th>5</th>\n",
       "      <td>90</td>\n",
       "      <td>250</td>\n",
       "      <td>160</td>\n",
       "      <td>40</td>\n",
       "    </tr>\n",
       "    <tr>\n",
       "      <th>2</th>\n",
       "      <td>160</td>\n",
       "      <td>40</td>\n",
       "      <td>90</td>\n",
       "      <td>250</td>\n",
       "    </tr>\n",
       "    <tr>\n",
       "      <th>7</th>\n",
       "      <td>490</td>\n",
       "      <td>810</td>\n",
       "      <td>640</td>\n",
       "      <td>360</td>\n",
       "    </tr>\n",
       "    <tr>\n",
       "      <th>4</th>\n",
       "      <td>640</td>\n",
       "      <td>360</td>\n",
       "      <td>490</td>\n",
       "      <td>810</td>\n",
       "    </tr>\n",
       "  </tbody>\n",
       "</table>\n",
       "</div>"
      ],
      "text/plain": [
       "     9    8    5    2\n",
       "5   90  250  160   40\n",
       "2  160   40   90  250\n",
       "7  490  810  640  360\n",
       "4  640  360  490  810"
      ]
     },
     "execution_count": 6,
     "metadata": {},
     "output_type": "execute_result"
    }
   ],
   "source": [
    "import pandas as pd\n",
    "import numpy as np\n",
    "def adder(c1,c2):\n",
    "    return c1+c2\n",
    "def sqr(c1):\n",
    "    return c1*c1\n",
    "a=[[4,3,2,1],[1,2,3,4],[8,7,6,5],[5,6,7,8]]\n",
    "df=pd.DataFrame(a,columns=[8,5,9,2],index=[5,2,7,4])\n",
    "b=df.pipe(adder,1)\n",
    "c=b.apply(sqr)\n",
    "d=c.applymap(lambda x:x*10)\n",
    "print(df,b,c,d,sep='\\n')\n",
    "print('\\n')\n",
    "for p in d.itertuples():\n",
    "    print(p)\n",
    "e=d.sort_index(axis=1,ascending=False)\n",
    "e"
   ]
  },
  {
   "cell_type": "code",
   "execution_count": 7,
   "metadata": {},
   "outputs": [
    {
     "name": "stdout",
     "output_type": "stream",
     "text": [
      "60\n",
      "20\n",
      "100\n",
      "15\n",
      "display.max_rows : int\n",
      "    If max_rows is exceeded, switch to truncate view. Depending on\n",
      "    `large_repr`, objects are either centrally truncated or printed as\n",
      "    a summary view. 'None' value means unlimited.\n",
      "\n",
      "    In case python/IPython is running in a terminal and `large_repr`\n",
      "    equals 'truncate' this can be set to 0 and pandas will auto-detect\n",
      "    the height of the terminal and print a truncated object which fits\n",
      "    the screen height. The IPython notebook, IPython qtconsole, or\n",
      "    IDLE do not run in a terminal and hence it is not possible to do\n",
      "    correct auto-detection.\n",
      "    [default: 60] [currently: 100]\n",
      "\n",
      "\n",
      "10\n",
      "10\n"
     ]
    }
   ],
   "source": [
    "# pandas options\n",
    "import pandas as pd\n",
    "pd.reset_option('display.max_columns')\n",
    "pd.reset_option('display.max_rows')\n",
    "print(pd.get_option('display.max_rows'))\n",
    "print(pd.get_option('display.max_columns'))\n",
    "pd.set_option('display.max_rows',100)\n",
    "print(pd.get_option('display.max_rows'))\n",
    "pd.set_option('display.max_columns',15)\n",
    "print(pd.get_option('display.max_columns'))\n",
    "pd.describe_option(\"display.max_rows\")\n",
    "with pd.option_context(\"display.max_rows\",10):\n",
    "    print(pd.get_option(\"display.max_rows\"))\n",
    "    print(pd.get_option(\"display.max_rows\"))"
   ]
  },
  {
   "cell_type": "code",
   "execution_count": 8,
   "metadata": {},
   "outputs": [
    {
     "name": "stdout",
     "output_type": "stream",
     "text": [
      "1         NaN\n",
      "2   -0.086957\n",
      "3    0.095238\n",
      "Name: Age, dtype: float64\n",
      "6333.333333333333\n",
      "                Age        Salary\n",
      "Age        1.333333  6.333333e+03\n",
      "Salary  6333.333333  3.033333e+07\n",
      "             Age    Salary\n",
      "Age     1.000000  0.995871\n",
      "Salary  0.995871  1.000000\n",
      "   Name  Age  Salary\n",
      "1   2.0  2.5     2.0\n",
      "2   3.0  1.0     1.0\n",
      "3   1.0  2.5     3.0\n"
     ]
    }
   ],
   "source": [
    "# Statistical Functions\n",
    "import pandas as pd\n",
    "df=pd.DataFrame([['Krishna',23,29000],['Kumar',21,20000],['Aravind',23,30000]],index=[1,2,3],columns=['Name','Age','Salary'])\n",
    "print(df['Age'].pct_change())\n",
    "print(df['Age'].cov(df['Salary']))\n",
    "print(df.cov())\n",
    "print(df.corr())\n",
    "print(df.rank())"
   ]
  },
  {
   "cell_type": "code",
   "execution_count": 9,
   "metadata": {},
   "outputs": [
    {
     "name": "stdout",
     "output_type": "stream",
     "text": [
      "      Name   Age   Salary\n",
      "1  Krishna  23.0  29000.0\n",
      "2    Kumar  21.0  20000.0\n",
      "3  Aravind  23.0  30000.0\n",
      "4   Charan  19.0  12000.0\n",
      "      Name        Age        Salary\n",
      "1  Krishna  23.000000  29000.000000\n",
      "2    Kumar  22.000000  24500.000000\n",
      "3  Aravind  22.333333  26333.333333\n",
      "4   Charan  21.500000  22750.000000\n",
      "      Name        Age   Salary\n",
      "1  Krishna  23.000000  29000.0\n",
      "2    Kumar  21.666667  23000.0\n",
      "3  Aravind  22.428571  27000.0\n",
      "4   Charan  20.600000  19000.0\n",
      "        Name  Age  Salary\n",
      "1    Krishna   23   29000\n",
      "2   Srikanth   21   21000\n",
      "3    Aravind   23   30000\n",
      "4     Charan   19   12000\n"
     ]
    }
   ],
   "source": [
    "# Windows Functions\n",
    "import pandas as pd\n",
    "df=pd.DataFrame([['Krishna',23,29000],['Kumar',21,20000],['Aravind',23,30000],['Charan',19,12000]],index=[1,2,3,4],columns=['Name','Age','Salary'])\n",
    "print(df.rolling(window=1).mean())\n",
    "print(df.expanding(min_periods=1).mean())\n",
    "print(df.ewm(com=1).mean())\n",
    "print(df.replace({20000:21000,'Kumar':' Srikanth'}))"
   ]
  },
  {
   "cell_type": "code",
   "execution_count": 10,
   "metadata": {},
   "outputs": [
    {
     "name": "stdout",
     "output_type": "stream",
     "text": [
      "2014\n",
      "   Points  Rank    Team  Year\n",
      "0     876     1  Riders  2014\n",
      "2     863     2  Devils  2014\n",
      "4     741     3   Kings  2014\n",
      "9     701     4  Royals  2014\n",
      "2015\n",
      "    Points  Rank    Team  Year\n",
      "1      789     2  Riders  2015\n",
      "3      673     3  Devils  2015\n",
      "5      812     4   kings  2015\n",
      "10     804     1  Royals  2015\n",
      "2016\n",
      "   Points  Rank    Team  Year\n",
      "6     756     1   Kings  2016\n",
      "8     694     2  Riders  2016\n",
      "2017\n",
      "    Points  Rank    Team  Year\n",
      "7      788     1   Kings  2017\n",
      "11     690     2  Riders  2017\n",
      "   Points  Rank    Team  Year\n",
      "0     876     1  Riders  2014\n",
      "2     863     2  Devils  2014\n",
      "4     741     3   Kings  2014\n",
      "9     701     4  Royals  2014 \n",
      "\n",
      "        mean   sum        std\n",
      "Year                         \n",
      "2014  795.25  3181  87.439026\n",
      "2015  769.50  3078  65.035888\n",
      "2016  725.00  1450  43.840620\n",
      "2017  739.00  1478  69.296465\n"
     ]
    }
   ],
   "source": [
    "import pandas as pd\n",
    "import numpy as np\n",
    "ipl_data = {'Team': ['Riders', 'Riders', 'Devils', 'Devils', 'Kings',\n",
    "   'kings', 'Kings', 'Kings', 'Riders', 'Royals', 'Royals', 'Riders'],\n",
    "   'Rank': [1, 2, 2, 3, 3,4 ,1 ,1,2 , 4,1,2],\n",
    "   'Year': [2014,2015,2014,2015,2014,2015,2016,2017,2016,2014,2015,2017],\n",
    "   'Points':[876,789,863,673,741,812,756,788,694,701,804,690]}\n",
    "df = pd.DataFrame(ipl_data)\n",
    "t=df.groupby('Year')\n",
    "for name,group in t:\n",
    "    print(name)\n",
    "    print(group)\n",
    "print(t.get_group(2014),'\\n')\n",
    "print(t['Points'].agg([np.mean,np.sum,np.std]))"
   ]
  },
  {
   "cell_type": "code",
   "execution_count": 11,
   "metadata": {},
   "outputs": [
    {
     "name": "stdout",
     "output_type": "stream",
     "text": [
      "   Pid    Pname  Sid  Smarks  Sname\n",
      "0    1  Krishna    1      50  Maths\n",
      "1    2    Kumar    4      70  Hindi\n",
      "   Pid    Pname  Sid  Smarks    Sname\n",
      "0  1.0  Krishna    1    50.0    Maths\n",
      "1  2.0    Kumar    4    70.0    Hindi\n",
      "2  NaN      NaN    2     NaN  Science\n",
      "3  NaN      NaN    3     NaN   Social\n",
      "   Pid    Pname  Sid  Smarks    Sname\n",
      "0  1.0  Krishna    1    50.0    Maths\n",
      "1  2.0    Kumar    4    70.0    Hindi\n",
      "2  NaN      NaN    2     NaN  Science\n",
      "3  NaN      NaN    3     NaN   Social\n",
      "   Pid    Pname  Sid  Smarks  Sname\n",
      "0    1  Krishna    1      50  Maths\n",
      "1    2    Kumar    4      70  Hindi\n",
      "\n",
      " AxesSubplot(0.125,0.11;0.775x0.77)\n"
     ]
    }
   ],
   "source": [
    "# joins in python\n",
    "import pandas as pd\n",
    "Pd=pd.DataFrame({'Pid':[1,2],'Pname':['Krishna','Kumar'],'Smarks':[50,70],'Sid':[1,4]})\n",
    "Sd=pd.DataFrame({'Sid':[1,2,3,4],'Sname':['Maths','Science','Social','Hindi']})\n",
    "print(pd.merge(Pd,Sd,on='Sid',how='left'))\n",
    "print(pd.merge(Pd,Sd,on='Sid',how='right'))\n",
    "print(pd.merge(Pd,Sd,on='Sid',how='outer'))\n",
    "print(pd.merge(Pd,Sd,on='Sid',how='inner'))\n",
    "print('\\n',Pd.plot.bar())"
   ]
  },
  {
   "cell_type": "code",
   "execution_count": 12,
   "metadata": {},
   "outputs": [
    {
     "name": "stdout",
     "output_type": "stream",
     "text": [
      "2021-07-07 14:27:58.866485\n",
      "2021-12-14 01:02:03\n"
     ]
    }
   ],
   "source": [
    "# Time Series\n",
    "import pandas as pd\n",
    "print(pd.datetime.now())\n",
    "print(pd.Timestamp('2021/12/14 01:02:03'))"
   ]
  },
  {
   "cell_type": "code",
   "execution_count": 13,
   "metadata": {},
   "outputs": [
    {
     "name": "stdout",
     "output_type": "stream",
     "text": [
      "DatetimeIndex(['2021-12-31', '2022-12-31', '2023-12-31', '2024-12-31',\n",
      "               '2025-12-31', '2026-12-31', '2027-12-31', '2028-12-31',\n",
      "               '2029-12-31', '2030-12-31'],\n",
      "              dtype='datetime64[ns]', freq='A-DEC')\n"
     ]
    },
    {
     "data": {
      "text/plain": [
       "(7, 2021)"
      ]
     },
     "execution_count": 13,
     "metadata": {},
     "output_type": "execute_result"
    }
   ],
   "source": [
    "# Date Time functions in pandas\n",
    "import pandas as pd\n",
    "# Third parameter: freq= ‘x’, where ‘x’ can be ‘H’(hour), ‘D’(days), ‘W’(weeks), ‘M’(month), ‘Y’(years), etc.\n",
    "d=pd.date_range('06/07/2021 ',periods=10,freq='Y')\n",
    "print(d)\n",
    "x=pd.datetime.now()\n",
    "x.month,x.year"
   ]
  },
  {
   "cell_type": "code",
   "execution_count": 20,
   "metadata": {},
   "outputs": [
    {
     "data": {
      "text/html": [
       "<div>\n",
       "<style scoped>\n",
       "    .dataframe tbody tr th:only-of-type {\n",
       "        vertical-align: middle;\n",
       "    }\n",
       "\n",
       "    .dataframe tbody tr th {\n",
       "        vertical-align: top;\n",
       "    }\n",
       "\n",
       "    .dataframe thead th {\n",
       "        text-align: right;\n",
       "    }\n",
       "</style>\n",
       "<table border=\"1\" class=\"dataframe\">\n",
       "  <thead>\n",
       "    <tr style=\"text-align: right;\">\n",
       "      <th></th>\n",
       "      <th>date</th>\n",
       "      <th>year</th>\n",
       "      <th>month</th>\n",
       "      <th>day</th>\n",
       "      <th>hour</th>\n",
       "      <th>minutes</th>\n",
       "      <th>seconds</th>\n",
       "    </tr>\n",
       "  </thead>\n",
       "  <tbody>\n",
       "    <tr>\n",
       "      <th>0</th>\n",
       "      <td>2021-01-31 12:45:30</td>\n",
       "      <td>2021</td>\n",
       "      <td>1</td>\n",
       "      <td>31</td>\n",
       "      <td>12</td>\n",
       "      <td>45</td>\n",
       "      <td>30</td>\n",
       "    </tr>\n",
       "  </tbody>\n",
       "</table>\n",
       "</div>"
      ],
      "text/plain": [
       "                 date  year  month  day  hour  minutes  seconds\n",
       "0 2021-01-31 12:45:30  2021      1   31    12       45       30"
      ]
     },
     "execution_count": 20,
     "metadata": {},
     "output_type": "execute_result"
    }
   ],
   "source": [
    "import pandas as pd\n",
    "d=pd.DataFrame()\n",
    "d['date']=pd.date_range('01/01/2021 12:45:30',periods=72,freq='M')\n",
    "d['year']=d['date'].dt.year\n",
    "d['month']=d['date'].dt.month\n",
    "d['day']=d['date'].dt.day\n",
    "d['hour']=d['date'].dt.hour\n",
    "d['minutes']=d['date'].dt.minute\n",
    "d['seconds']=d['date'].dt.second\n",
    "d.head(1)"
   ]
  },
  {
   "cell_type": "code",
   "execution_count": 15,
   "metadata": {},
   "outputs": [
    {
     "data": {
      "text/plain": [
       "0.0"
      ]
     },
     "execution_count": 15,
     "metadata": {},
     "output_type": "execute_result"
    }
   ],
   "source": [
    "def divide(a,b):\n",
    "    return a/b\n",
    "def decorator(func):\n",
    "    def wrapper(a,b):\n",
    "        if b==0:\n",
    "            print(\"Can't divide by 0!\")\n",
    "            return\n",
    "        return func(a,b)\n",
    "    return wrapper\n",
    "div=decorator(divide)\n",
    "div(0,1)"
   ]
  },
  {
   "cell_type": "code",
   "execution_count": 16,
   "metadata": {},
   "outputs": [],
   "source": [
    "def smart_divide(func):\n",
    "    def inner(a, b):\n",
    "        print(\"I am going to divide\", a, \"and\", b)\n",
    "        if b == 0:\n",
    "            print(\"Whoops! cannot divide\")\n",
    "            return\n",
    "\n",
    "        return func(a, b)\n",
    "    return inner\n",
    "\n",
    "\n",
    "@smart_divide\n",
    "def divide(a, b):\n",
    "    print(a/b)"
   ]
  },
  {
   "cell_type": "code",
   "execution_count": 17,
   "metadata": {},
   "outputs": [
    {
     "name": "stdout",
     "output_type": "stream",
     "text": [
      "sdfgh\n",
      "#####\n",
      "$$$\n",
      "Hi Sdfgh\n",
      "$$$\n",
      "#####\n"
     ]
    }
   ],
   "source": [
    "def deco1(h):\n",
    "    def wrap(b):\n",
    "        if len(b)<=2:\n",
    "            print('Name should be atleast of 3 letters')\n",
    "            return \n",
    "        print('#####')\n",
    "        h(b)\n",
    "        print('#####')\n",
    "    return wrap\n",
    "def deco2(h):\n",
    "    def wrap(b):\n",
    "        if len(b)<=2:\n",
    "            print('Name should be atleast of 3 letters')\n",
    "            return \n",
    "        print('$$$')\n",
    "        h(b)\n",
    "        print('$$$')\n",
    "    return wrap\n",
    "@deco1\n",
    "@deco2\n",
    "def hello(s):\n",
    "    s=s.center(3)\n",
    "    print('Hi',s.title())\n",
    "hello(str(input()))"
   ]
  },
  {
   "cell_type": "code",
   "execution_count": 31,
   "metadata": {},
   "outputs": [
    {
     "data": {
      "text/plain": [
       "1"
      ]
     },
     "execution_count": 31,
     "metadata": {},
     "output_type": "execute_result"
    }
   ],
   "source": [
    "import numpy as np\n",
    "arr = np.array([1,2,3,4,5,6,7])\n",
    "arr[0]"
   ]
  },
  {
   "cell_type": "code",
   "execution_count": null,
   "metadata": {},
   "outputs": [],
   "source": []
  }
 ],
 "metadata": {
  "kernelspec": {
   "display_name": "Python 3",
   "language": "python",
   "name": "python3"
  },
  "language_info": {
   "codemirror_mode": {
    "name": "ipython",
    "version": 3
   },
   "file_extension": ".py",
   "mimetype": "text/x-python",
   "name": "python",
   "nbconvert_exporter": "python",
   "pygments_lexer": "ipython3",
   "version": "3.6.4"
  }
 },
 "nbformat": 4,
 "nbformat_minor": 4
}
