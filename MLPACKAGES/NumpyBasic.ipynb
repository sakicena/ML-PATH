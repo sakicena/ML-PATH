{
 "cells": [
  {
   "cell_type": "code",
   "execution_count": 1,
   "metadata": {},
   "outputs": [
    {
     "name": "stdout",
     "output_type": "stream",
     "text": [
      "[[ 1  2  3  4  5  8]\n",
      " [ 1  5  2  3  4 10]]\n",
      "2\n",
      "int32\n",
      "4\n",
      "12\n",
      "(2, 6)\n",
      "[5. 6. 7. 8. 9.]\n",
      "[[ 1  2]\n",
      " [ 3  4]\n",
      " [ 5  8]\n",
      " [ 1  5]\n",
      " [ 2  3]\n",
      " [ 4 10]]\n",
      "10\n",
      "1\n",
      "48\n",
      "[ 1  5  3  4  5 10]\n",
      "[ 2  7  5  7  9 18]\n",
      "[ 8 10]\n",
      "[23 25]\n",
      "2.614064523559687\n",
      "[[ 1  2  3  4  5  8]\n",
      " [ 1  5  2  3  4 10]\n",
      " [ 1  2  3  4  5  8]\n",
      " [ 1  5  2  3  4 10]]\n",
      "[[ 1  2  3  4  5  8  1  2  3  4  5  8]\n",
      " [ 1  5  2  3  4 10  1  5  2  3  4 10]]\n"
     ]
    }
   ],
   "source": [
    "import numpy as np\n",
    "a = np.array([[1,2,3,4,5,8],[1,5,2,3,4,10]])\n",
    "b = np.array([[1,2,3,4,5,8],[1,5,2,3,4,10]])\n",
    "print(a,a.ndim,a.dtype,a.itemsize,a.size,\n",
    "      a.shape,np.linspace(5,9,5),a.reshape(6,2)\n",
    "      ,a.max(),a.min(),a.sum(),a.max(axis=0),\n",
    "      a.sum(axis=0),a.max(axis=1),\n",
    "      a.sum(axis=1),np.std(a),\n",
    "      np.vstack((a,b)),np.hstack((a,b)),sep=\"\\n\")"
   ]
  },
  {
   "cell_type": "code",
   "execution_count": 2,
   "metadata": {},
   "outputs": [
    {
     "name": "stdout",
     "output_type": "stream",
     "text": [
      "[('Salary', '<f8')]\n",
      "[('Salary', '<f8')] [(10000.12,) (15000.02,)]\n"
     ]
    }
   ],
   "source": [
    "import numpy as np\n",
    "d = np.dtype([(\"Salary\",np.float64)])\n",
    "print(d)\n",
    "arr = np.array([(10000.12,),(15000.02,)],dtype=d)\n",
    "print(arr.dtype,arr)"
   ]
  },
  {
   "cell_type": "code",
   "execution_count": 3,
   "metadata": {},
   "outputs": [
    {
     "name": "stdout",
     "output_type": "stream",
     "text": [
      "[[ 1  5]\n",
      " [ 3  4]\n",
      " [ 5 10]]\n"
     ]
    }
   ],
   "source": [
    "#The empty routine is used to create an uninitialized array of specified shape and data type\n",
    "import numpy as np\n",
    "arr1 = np.empty((3,2),dtype=int)\n",
    "print(arr1)\n"
   ]
  },
  {
   "cell_type": "code",
   "execution_count": 4,
   "metadata": {},
   "outputs": [
    {
     "name": "stdout",
     "output_type": "stream",
     "text": [
      "[[0 0]\n",
      " [0 0]\n",
      " [0 0]]\n"
     ]
    }
   ],
   "source": [
    "# This routine is used to create the numpy array with the specified shape where each numpy array item is initialized to 0\n",
    "import numpy as np\n",
    "arr1=np.zeros((3,2),dtype=int)\n",
    "print(arr1)"
   ]
  },
  {
   "cell_type": "code",
   "execution_count": 5,
   "metadata": {},
   "outputs": [
    {
     "name": "stdout",
     "output_type": "stream",
     "text": [
      "[[1 1 1]\n",
      " [1 1 1]\n",
      " [1 1 1]]\n"
     ]
    }
   ],
   "source": [
    "# This routine is used to create the numpy array with the specified shape where each numpy array item is initialized to 1\n",
    "import numpy as np\n",
    "arr1=np.ones((3,3),dtype=int)\n",
    "print(arr1)"
   ]
  },
  {
   "cell_type": "code",
   "execution_count": 6,
   "metadata": {},
   "outputs": [
    {
     "name": "stdout",
     "output_type": "stream",
     "text": [
      "[1 2 3 4 5 6]\n",
      "[1 2 3 4 5 6]\n"
     ]
    }
   ],
   "source": [
    "# array from list,tuples\n",
    "import numpy as np\n",
    "a=(1,2,3,4,5,6)\n",
    "b=[1,2,3,4,5,6]\n",
    "aa=np.asarray(a,dtype=int)\n",
    "bb=np.asarray(b,dtype=int)\n",
    "print(aa,bb,sep=\"\\n\")"
   ]
  },
  {
   "cell_type": "code",
   "execution_count": 10,
   "metadata": {},
   "outputs": [
    {
     "name": "stdout",
     "output_type": "stream",
     "text": [
      "<class 'bytes'>\n",
      "[b'i' b'a' b'm' b'm' b'k' b'k' b'r' b'i' b's' b'h' b'n' b'a' b'2' b'1'\n",
      " b'0' b'7' b'1' b'9' b'9' b'8'] <class 'numpy.ndarray'>\n"
     ]
    }
   ],
   "source": [
    "# array from buffer\n",
    "import numpy as np\n",
    "a= b'iammkkrishna21071998'\n",
    "print(type(a))\n",
    "aa=np.frombuffer(a,dtype='S1',count=-1)\n",
    "print(aa,type(aa))"
   ]
  },
  {
   "cell_type": "code",
   "execution_count": 8,
   "metadata": {},
   "outputs": [
    {
     "name": "stdout",
     "output_type": "stream",
     "text": [
      "[1, 2]\n",
      "<class 'list'>\n",
      "[1 2] <class 'numpy.ndarray'>\n"
     ]
    }
   ],
   "source": [
    "# array from iterator\n",
    "import numpy as np\n",
    "a=[1,2]\n",
    "print(a,type(a),sep=\"\\n\")\n",
    "aa=np.fromiter(a,dtype=int)\n",
    "print(aa,type(aa))"
   ]
  },
  {
   "cell_type": "code",
   "execution_count": 9,
   "metadata": {},
   "outputs": [
    {
     "name": "stdout",
     "output_type": "stream",
     "text": [
      "[ 6.  7.  8.  9. 10.]\n",
      "[ 6.  7.  8.  9. 10.]\n",
      "[1.e+06 1.e+07 1.e+08 1.e+09 1.e+10]\n"
     ]
    }
   ],
   "source": [
    "# Numpy Arrays within the numerical range\n",
    "import numpy as np\n",
    "#arange\n",
    "a=np.arange(6,11,1,float)\n",
    "print(a)\n",
    "b=np.linspace(6,10,5)\n",
    "print(b)\n",
    "c=np.logspace(6,10,5,endpoint=True)\n",
    "print(c)"
   ]
  },
  {
   "cell_type": "code",
   "execution_count": 10,
   "metadata": {},
   "outputs": [
    {
     "name": "stdout",
     "output_type": "stream",
     "text": [
      "[[ 1  2  3 50]\n",
      " [ 1  3  5 60]]\n",
      "1 1 2 3 3 5 50 60 \n",
      " [[ 1  2  3 50]\n",
      " [ 1  3  5 60]]\n",
      "\n",
      "\n",
      "[[ 1  1]\n",
      " [ 2  3]\n",
      " [ 3  5]\n",
      " [50 60]]\n",
      "3 3 6 9 9 15 150 180 [[  3   3]\n",
      " [  6   9]\n",
      " [  9  15]\n",
      " [150 180]]\n"
     ]
    }
   ],
   "source": [
    "#iter an array\n",
    "import numpy as np\n",
    "a=np.array([[1,2,3,50],[1,3,5,60]],order='F')\n",
    "print(a)\n",
    "for i in np.nditer(a):\n",
    "    print(i,end=\" \")\n",
    "print(\"\\n\",a,end='\\n')\n",
    "\n",
    "b=a.T\n",
    "print('\\n')\n",
    "print(b)\n",
    "for i in np.nditer(b ,op_flags = ['readwrite']):\n",
    "    i[...]=i*3\n",
    "    print(i,sep=\" \",end=\" \")\n",
    "print(b)"
   ]
  },
  {
   "cell_type": "code",
   "execution_count": 11,
   "metadata": {},
   "outputs": [
    {
     "name": "stdout",
     "output_type": "stream",
     "text": [
      "10100 10 101 101000\n",
      "21 4 -21 10100\n"
     ]
    }
   ],
   "source": [
    "# binary representation\n",
    "\n",
    "import numpy as np\n",
    "a=20\n",
    "b=5\n",
    "print(np.binary_repr(a),np.binary_repr(np.right_shift(a,3)),np.binary_repr(b),np.binary_repr(np.left_shift(b,3)))\n",
    "print(np.bitwise_or(a,b),np.bitwise_and(a,b),np.invert(a),np.binary_repr(a,b))"
   ]
  },
  {
   "cell_type": "code",
   "execution_count": 12,
   "metadata": {},
   "outputs": [
    {
     "name": "stdout",
     "output_type": "stream",
     "text": [
      "iam krishna iam so ,called\n",
      "H H H H H \n",
      "   nsnsacsajc  \n",
      "Nsnsacsajc\n",
      "Nsnsacsajc Hx Xjaxjh Aascnas Csca\n",
      "nsnsacsajc hx xjaxjh aascnas csca\n",
      "NSNSACSAJC HX XJAXJH AASCNAS CSCA\n",
      "['nsnsacsajc', 'hx', 'xjAXJH', 'aascnas', 'csca']\n",
      "['nsnsacsajc', 'hx', 'xjAXJH', 'aascnas csca']\n",
      "nsnsacsajc hx xjAXJH aascnas csca   \n",
      "   nsnsacsajc hx xjAXJH aascnas csca   \n",
      "n:..:s:..:n:..:s:..:a:..:c:..:s:..:a:..:j:..:c\n",
      "this is javvadi sai krishna\n",
      "b'\\xa3\\x88\\x89\\xa2@\\x89\\xa2@\\x91\\x81\\xa5\\x81\\x84\\x89@\\xa2\\x81\\x89@\\x92\\x99\\x89\\xa2\\x88\\x95\\x81'\n",
      "this is javadi sai krishna\n"
     ]
    }
   ],
   "source": [
    "#string operations\n",
    "import numpy as np\n",
    "s=\"this is javadi sai krishna\"\n",
    "a=np.char.add(('iam krishna '),('iam so ,called'))\n",
    "print(a,np.char.multiply('H ',5),sep='\\n')\n",
    "print(np.char.center('nsnsacsajc',15))\n",
    "print(np.char.capitalize('nsnsacsajc'))\n",
    "print(np.char.title('nsnsacsajc hx xjAXJH aascnas csca'))\n",
    "print(np.char.lower('nsnsacsajc hx xjAXJH aascnas csca'))\n",
    "print(np.char.upper('nsnsacsajc hx xjAXJH aascnas csca'))\n",
    "print(np.char.split('nsnsacsajc hx xjAXJH aascnas csca'),sep=\" \")\n",
    "print(np.char.splitlines('nsnsacsajc\\nhx\\nxjAXJH\\naascnas csca'))\n",
    "print(np.char.lstrip('   nsnsacsajc hx xjAXJH aascnas csca   '))\n",
    "print('   nsnsacsajc hx xjAXJH aascnas csca   ')\n",
    "print(np.char.join(':..:','nsnsacsajc'))\n",
    "print(np.char.replace(s,'javadi','javvadi'))\n",
    "se=np.char.encode(s,'cp500')\n",
    "print(se)\n",
    "print(np.char.decode(se,'cp500'))"
   ]
  },
  {
   "cell_type": "code",
   "execution_count": 13,
   "metadata": {},
   "outputs": [
    {
     "name": "stdout",
     "output_type": "stream",
     "text": [
      "[0.         0.5        0.70710678 0.8660254  1.        ]\n",
      "[1.00000000e+00 8.66025404e-01 7.07106781e-01 5.00000000e-01\n",
      " 6.12323400e-17]\n",
      "[0.00000000e+00 5.77350269e-01 1.00000000e+00 1.73205081e+00\n",
      " 1.63312394e+16]\n",
      "[0.         0.52359878 0.78539816 1.04719755 1.57079633]\n",
      "[0.         0.52359878 0.78539816 1.04719755 1.57079633]\n",
      "[0.         0.52359878 0.78539816 1.04719755 1.57079633]\n",
      "[ 0. 30. 45. 60. 90.]\n",
      "[ 0. 30. 45. 60. 90.]\n",
      "[ 0. 30. 45. 60. 90.]\n"
     ]
    }
   ],
   "source": [
    "# trignometric functions\n",
    "import numpy as np\n",
    "a=np.array([0,30,45,60,90])\n",
    "sin=np.sin(a*np.pi/180)\n",
    "cos=np.cos(a*np.pi/180)\n",
    "tan=np.tan(a*np.pi/180)\n",
    "cot=np.arctan(tan)\n",
    "sec=np.arccos(cos)\n",
    "cosec=np.arcsin(sin)\n",
    "print(sin,cos,tan,cot,sec,cosec,sep='\\n')\n",
    "print(np.degrees(cot),np.degrees(sec),np.degrees(cosec),sep='\\n')"
   ]
  },
  {
   "cell_type": "code",
   "execution_count": 14,
   "metadata": {},
   "outputs": [
    {
     "name": "stdout",
     "output_type": "stream",
     "text": [
      "[12.01 52.04 85.41  1.24] [13. 53. 86.  2.] [12. 52. 85.  1.]\n"
     ]
    }
   ],
   "source": [
    "#around,ceil,floor\n",
    "import numpy as np\n",
    "a=[12.014,52.045,85.41,1.24]\n",
    "print(np.around(a,2),np.ceil(a),np.floor(a))"
   ]
  },
  {
   "cell_type": "code",
   "execution_count": 15,
   "metadata": {},
   "outputs": [
    {
     "name": "stdout",
     "output_type": "stream",
     "text": [
      "9 9 1 1\n",
      "[7 8 9] [7 8 9] [1 5 3] [1 5 3]\n",
      "[5 7 9] [5 7 9] [1 5 4] [1 5 4]\n"
     ]
    }
   ],
   "source": [
    "#statistical functions\n",
    "import numpy as np\n",
    "a=np.array([[1,5,3],[7,5,6],[4,8,9]])\n",
    "print(a.max(),np.amax(a),a.min(),np.amin(a))\n",
    "print(a.max(axis=0),np.amax(a,0),a.min(axis=0),np.amin(a,0))\n",
    "print(a.max(axis=1),np.amax(a,1),a.min(axis=1),np.amin(a,1))"
   ]
  },
  {
   "cell_type": "code",
   "execution_count": 16,
   "metadata": {},
   "outputs": [
    {
     "name": "stdout",
     "output_type": "stream",
     "text": [
      "[6 3 6] [4 2 8]\n",
      "[1.  5.  3.6] [1.4 5.2 2.4]\n",
      "[1. 5. 6.] [3. 6. 6.] [3. 6. 6.]\n",
      "[3. 6. 8.] [3. 6. 6.] [3. 6. 6.]\n"
     ]
    }
   ],
   "source": [
    "#peaktopeak\n",
    "import numpy as np\n",
    "a=np.array([[1,5,3],[7,5,6],[1,8,9]])\n",
    "print(np.ptp(a,0),np.ptp(a,1))\n",
    "print(np.percentile(a,10,0),np.percentile(a,10,1))\n",
    "print(np.median(a,0),np.mean(a,0),np.average(a,0))\n",
    "print(np.median(a,1),np.mean(a,1),np.average(a,1))"
   ]
  },
  {
   "cell_type": "code",
   "execution_count": 17,
   "metadata": {},
   "outputs": [
    {
     "name": "stdout",
     "output_type": "stream",
     "text": [
      "[[1 5 6]\n",
      " [3 5 7]\n",
      " [1 8 9]]\n",
      "[[1 5 3]\n",
      " [1 5 6]\n",
      " [7 8 9]]\n"
     ]
    }
   ],
   "source": [
    "# sorting\n",
    "import numpy as np\n",
    "a=np.array([[1,5,6],[7,5,3],[1,8,9]])\n",
    "print(np.sort(a),np.sort(a,0),sep=\"\\n\")"
   ]
  },
  {
   "cell_type": "code",
   "execution_count": 18,
   "metadata": {},
   "outputs": [
    {
     "name": "stdout",
     "output_type": "stream",
     "text": [
      "[(b'Sai', 91) (b'Krishna', 84)]\n",
      "[(b'Krishna', 84) (b'Sai', 91)]\n"
     ]
    }
   ],
   "source": [
    "# array sorting by name\n",
    "import numpy as np\n",
    "data_type=np.dtype([('Name','S10'),('Marks',int)])\n",
    "arr=np.array([('Sai',91),('Krishna',84)],dtype=data_type)\n",
    "print(arr)\n",
    "print(np.sort(arr,order='Marks'))"
   ]
  },
  {
   "cell_type": "code",
   "execution_count": 19,
   "metadata": {},
   "outputs": [
    {
     "name": "stdout",
     "output_type": "stream",
     "text": [
      "Original array:\n",
      " [90 29 89 12]\n",
      "Printing indices of sorted data\n",
      " [3 1 2 0]\n",
      "printing sorted array\n",
      "12 29 89 90 "
     ]
    }
   ],
   "source": [
    "import numpy as np  \n",
    "  \n",
    "a = np.array([90, 29, 89, 12])  \n",
    "  \n",
    "print(\"Original array:\\n\",a)  \n",
    "  \n",
    "sort_ind = np.argsort(a)  \n",
    "  \n",
    "print(\"Printing indices of sorted data\\n\",sort_ind)  \n",
    "  \n",
    "sort_a = a[sort_ind]  \n",
    "  \n",
    "print(\"printing sorted array\")\n",
    "\n",
    "  \n",
    "for i in sort_ind:  \n",
    "    print(a[i],end = \" \")  "
   ]
  },
  {
   "cell_type": "code",
   "execution_count": 20,
   "metadata": {},
   "outputs": [
    {
     "name": "stdout",
     "output_type": "stream",
     "text": [
      "printing indices of sorted data\n",
      "[0 3 1 4 2]\n",
      "using the indices to sort the array\n",
      "a 12\n",
      "d 12\n",
      "b 90\n",
      "e 211\n",
      "c 380\n"
     ]
    }
   ],
   "source": [
    "import numpy as np  \n",
    "  \n",
    "a = np.array(['a','b','c','d','e'])  \n",
    "  \n",
    "b = np.array([12, 90, 380, 12, 211])  \n",
    "  \n",
    "ind = np.lexsort((a,b))  \n",
    "  \n",
    "print(\"printing indices of sorted data\")  \n",
    "  \n",
    "print(ind)  \n",
    "  \n",
    "print(\"using the indices to sort the array\")  \n",
    "  \n",
    "for i in ind:  \n",
    "    print(a[i],b[i])  \n"
   ]
  },
  {
   "cell_type": "code",
   "execution_count": 21,
   "metadata": {},
   "outputs": [
    {
     "name": "stdout",
     "output_type": "stream",
     "text": [
      "(array([1, 2, 4], dtype=int64),)\n",
      "(array([0, 1, 1], dtype=int64), array([1, 0, 1], dtype=int64))\n"
     ]
    }
   ],
   "source": [
    "import numpy as np  \n",
    "  \n",
    "b = np.array([12, 90, 380, 12, 211])  \n",
    "  \n",
    "print(np.where(b>12))  \n",
    "  \n",
    "c = np.array([[20, 24],[21, 23]])  \n",
    "  \n",
    "print(np.where(c>20)) "
   ]
  },
  {
   "cell_type": "code",
   "execution_count": 22,
   "metadata": {},
   "outputs": [
    {
     "name": "stdout",
     "output_type": "stream",
     "text": [
      "[[0.e+000 5.e-324 5.e-324]\n",
      " [0.e+000 5.e-324 5.e-324]]\n",
      "[[0. 0. 0.]\n",
      " [0. 0. 0.]]\n",
      "[[1. 1. 1.]\n",
      " [1. 1. 1.]]\n"
     ]
    }
   ],
   "source": [
    "# matlib marix lib\n",
    "import numpy as np\n",
    "from numpy import matlib as ms\n",
    "print(ms.empty((2,3)),sep='\\n')\n",
    "print(ms.zeros((2,3)))\n",
    "print(ms.ones((2,3)))\n"
   ]
  },
  {
   "cell_type": "code",
   "execution_count": 23,
   "metadata": {},
   "outputs": [
    {
     "name": "stdout",
     "output_type": "stream",
     "text": [
      "[[1. 0. 0.]\n",
      " [0. 1. 0.]\n",
      " [0. 0. 1.]]\n",
      "[[1 0 0 0]\n",
      " [0 1 0 0]\n",
      " [0 0 1 0]\n",
      " [0 0 0 1]]\n",
      "[[0.04397178 0.26575821 0.74812014]\n",
      " [0.42773902 0.39097681 0.79828524]\n",
      " [0.22995877 0.33825525 0.9963576 ]]\n"
     ]
    }
   ],
   "source": [
    "import numpy as np\n",
    "from numpy import matlib as ms\n",
    "print(ms.eye(3,3,0,float))\n",
    "print(ms.identity(4,int))\n",
    "print(ms.rand(3,3))"
   ]
  },
  {
   "cell_type": "code",
   "execution_count": 24,
   "metadata": {},
   "outputs": [
    {
     "name": "stdout",
     "output_type": "stream",
     "text": [
      "[[23 12 10]\n",
      " [ 7  8  9]\n",
      " [ 7  8  9]]\n",
      "[[10 20 15]\n",
      " [ 8  9  7]\n",
      " [ 7  8  9]]\n",
      "[[396 648 519]\n",
      " [197 284 242]\n",
      " [197 284 242]]\n",
      "1005\n",
      "[[620 362 347]\n",
      " [365 191 194]\n",
      " [365 191 194]]\n",
      "[[396 648 519]\n",
      " [197 284 242]\n",
      " [197 284 242]]\n"
     ]
    }
   ],
   "source": [
    "#linear algebra\n",
    "import numpy as np  \n",
    "a = np.array([[23,12,10],[7,8,9],[7,8,9]],order='F')  \n",
    "b = np.array([[10,20,15],[8,9,7],[7,8,9]],order='C')  \n",
    "dot = np.dot(a,b)  \n",
    "print(a,b,dot,np.vdot(a,b),np.inner(a,b),np.matmul(a,b),sep='\\n') "
   ]
  },
  {
   "cell_type": "code",
   "execution_count": 25,
   "metadata": {},
   "outputs": [
    {
     "name": "stdout",
     "output_type": "stream",
     "text": [
      "[[1 2]\n",
      " [3 4]]\n",
      "-2.0000000000000004\n",
      "[[1. 0.]\n",
      " [0. 1.]]\n",
      "[[-2.   1. ]\n",
      " [ 1.5 -0.5]]\n"
     ]
    }
   ],
   "source": [
    "#linear algebra\n",
    "import numpy as np\n",
    "a=np.array([[1,2],[3,4]])\n",
    "b=np.array([[1,2],[3,4]])\n",
    "print(a,np.linalg.det(a),np.linalg.solve(a,b),np.linalg.inv(a),sep='\\n')"
   ]
  },
  {
   "cell_type": "code",
   "execution_count": 26,
   "metadata": {},
   "outputs": [
    {
     "name": "stdout",
     "output_type": "stream",
     "text": [
      "[[[ 1  4  9]\n",
      "  [36 25 16]\n",
      "  [64 25  4]]]\n",
      "[[[37 27 17]\n",
      "  [68 57 46]\n",
      "  [54 51 48]]]\n",
      "[[[[37 27 17]]\n",
      "\n",
      "  [[68 57 46]]\n",
      "\n",
      "  [[54 51 48]]]]\n"
     ]
    }
   ],
   "source": [
    "# matrix multiplication\n",
    "import numpy as np\n",
    "a=np.array([[1,2,3],[6,5,4],[8,5,2]],ndmin=3)\n",
    "b=np.array([[1,2,3],[6,5,4],[8,5,2]],ndmin=3)\n",
    "print(np.multiply(a,b),np.matmul(a,b),np.dot(a,b),sep='\\n')"
   ]
  },
  {
   "cell_type": "code",
   "execution_count": 24,
   "metadata": {},
   "outputs": [
    {
     "data": {
      "text/plain": [
       "array([b'i', b'a', b'm', b' ', b'k', b'r', b'i', b's', b'h', b'n', b'a'],\n",
       "      dtype='|S1')"
      ]
     },
     "execution_count": 24,
     "metadata": {},
     "output_type": "execute_result"
    }
   ],
   "source": [
    "import numpy as np\n",
    "s=b'iam krishna'\n",
    "df=np.frombuffer(s,dtype='S1')\n",
    "df"
   ]
  },
  {
   "cell_type": "code",
   "execution_count": null,
   "metadata": {},
   "outputs": [],
   "source": []
  }
 ],
 "metadata": {
  "kernelspec": {
   "display_name": "Python 3",
   "language": "python",
   "name": "python3"
  },
  "language_info": {
   "codemirror_mode": {
    "name": "ipython",
    "version": 3
   },
   "file_extension": ".py",
   "mimetype": "text/x-python",
   "name": "python",
   "nbconvert_exporter": "python",
   "pygments_lexer": "ipython3",
   "version": "3.6.4"
  }
 },
 "nbformat": 4,
 "nbformat_minor": 4
}
