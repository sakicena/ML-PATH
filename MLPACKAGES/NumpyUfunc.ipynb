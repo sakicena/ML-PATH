{
 "cells": [
  {
   "cell_type": "code",
   "execution_count": 1,
   "metadata": {},
   "outputs": [
    {
     "name": "stdout",
     "output_type": "stream",
     "text": [
      "[10 10 10]\n"
     ]
    }
   ],
   "source": [
    "# Ufunct in numpy\n",
    "import numpy as np\n",
    "\n",
    "def myadd(x, y):\n",
    "    return x+y\n",
    "\n",
    "myadd = np.frompyfunc(myadd, 2, 1)\n",
    "\n",
    "print(myadd([ 4, 3, 2], [ 6, 7, 8]))"
   ]
  },
  {
   "cell_type": "code",
   "execution_count": 2,
   "metadata": {},
   "outputs": [
    {
     "name": "stdout",
     "output_type": "stream",
     "text": [
      "<class 'numpy.ufunc'>\n",
      "<class 'builtin_function_or_method'>\n"
     ]
    }
   ],
   "source": [
    "# type Ufunc\n",
    "import numpy as np\n",
    "print(type(np.add))\n",
    "print(type(np.concatenate))"
   ]
  },
  {
   "cell_type": "code",
   "execution_count": 3,
   "metadata": {},
   "outputs": [
    {
     "name": "stdout",
     "output_type": "stream",
     "text": [
      "[30 32 34 36 10 10]\n",
      "[-10 -10 -10 -10 -38 -40]\n",
      "[ 200  231  264  299 -336 -375]\n",
      "[ 0.5         0.52380952  0.54545455  0.56521739 -0.58333333 -0.6       ]\n",
      "[1661992960  602408795          0 1487897765 1090519040 1144744561]\n",
      "[10 11 12 13 10 10]\n",
      "[10 11 12 13 10 10]\n",
      "(array([ 0,  0,  0,  0, -1, -1], dtype=int32), array([10, 11, 12, 13, 10, 10], dtype=int32))\n",
      "[10 11 12 13 14 15]\n"
     ]
    }
   ],
   "source": [
    "# Simple Arithmetic Functions\n",
    "import numpy as np\n",
    "arr1 = np.array([10, 11, 12, 13, -14, -15])\n",
    "arr2 = np.array([20, 21, 22, 23, 24, 25])\n",
    "print(np.add(arr1,arr2))\n",
    "print(np.subtract(arr1,arr2))\n",
    "print(np.multiply(arr1,arr2))\n",
    "print(np.divide(arr1,arr2))\n",
    "print(np.power(arr1,arr2))\n",
    "print(np.mod(arr1,arr2))\n",
    "print(np.remainder(arr1,arr2))\n",
    "print(np.divmod(arr1,arr2))\n",
    "print(np.abs(arr1))"
   ]
  },
  {
   "cell_type": "code",
   "execution_count": 4,
   "metadata": {},
   "outputs": [
    {
     "name": "stdout",
     "output_type": "stream",
     "text": [
      "[30.  0.]\n",
      "[30.  0.]\n",
      "30.21\n",
      "[30.  2.]\n",
      "[31.  1.]\n"
     ]
    }
   ],
   "source": [
    "# Rounding Decimals\n",
    "import numpy as np\n",
    "print(np.trunc([30.1624,0.23145]))\n",
    "print(np.fix([30.1624,0.23145]))\n",
    "print(np.around(30.2146534,2))\n",
    "print(np.floor([30.2146534,2]))\n",
    "print(np.ceil([30.1624,0.23145]))"
   ]
  },
  {
   "cell_type": "code",
   "execution_count": 5,
   "metadata": {},
   "outputs": [
    {
     "name": "stdout",
     "output_type": "stream",
     "text": [
      "[0.         0.69314718 1.09861229 1.38629436 1.60943791 1.79175947\n",
      " 1.94591015 2.07944154 2.19722458]\n",
      "[0.         1.         1.5849625  2.         2.32192809 2.5849625\n",
      " 2.80735492 3.         3.169925  ]\n",
      "[0.         0.30103    0.47712125 0.60205999 0.69897    0.77815125\n",
      " 0.84509804 0.90308999 0.95424251]\n",
      "0.8502741537276026\n"
     ]
    }
   ],
   "source": [
    "# Logs\n",
    "import numpy as np\n",
    "import math\n",
    "print(np.log(np.arange(1,10))) #log e\n",
    "print(np.log2(np.arange(1,10))) #log 2\n",
    "print(np.log10(np.arange(1,10))) #log 10\n",
    "print(np.frompyfunc(math.log, 2, 1)(10,15))"
   ]
  },
  {
   "cell_type": "code",
   "execution_count": 6,
   "metadata": {},
   "outputs": [
    {
     "name": "stdout",
     "output_type": "stream",
     "text": [
      "[30 32 34 36 10 10]\n",
      "[ 20  41  63  86 110 135]\n"
     ]
    }
   ],
   "source": [
    "# Summations\n",
    "import numpy as np\n",
    "arr1 = np.array([10, 11, 12, 13, -14, -15])\n",
    "arr2 = np.array([20, 21, 22, 23, 24, 25])\n",
    "newarr = np.sum([arr1, arr2],axis=0)\n",
    "print(newarr)\n",
    "newarr = np.cumsum(arr2)\n",
    "print(newarr)"
   ]
  }
 ],
 "metadata": {
  "kernelspec": {
   "display_name": "Python 3",
   "language": "python",
   "name": "python3"
  },
  "language_info": {
   "codemirror_mode": {
    "name": "ipython",
    "version": 3
   },
   "file_extension": ".py",
   "mimetype": "text/x-python",
   "name": "python",
   "nbconvert_exporter": "python",
   "pygments_lexer": "ipython3",
   "version": "3.6.4"
  }
 },
 "nbformat": 4,
 "nbformat_minor": 2
}
