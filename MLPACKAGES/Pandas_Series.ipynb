{
 "cells": [
  {
   "cell_type": "code",
   "execution_count": 1,
   "metadata": {},
   "outputs": [
    {
     "name": "stdout",
     "output_type": "stream",
     "text": [
      "Series([], dtype: float64)\n"
     ]
    }
   ],
   "source": [
    "#empty series\n",
    "import pandas as pd\n",
    "a=pd.Series(dtype=float)\n",
    "print(a)"
   ]
  },
  {
   "cell_type": "code",
   "execution_count": 2,
   "metadata": {},
   "outputs": [
    {
     "name": "stdout",
     "output_type": "stream",
     "text": [
      "1    a\n",
      "2    e\n",
      "3    c\n",
      "4    d\n",
      "dtype: object\n",
      "e\n"
     ]
    }
   ],
   "source": [
    "#series from array\n",
    "import pandas as pd\n",
    "import numpy as np\n",
    "a=np.array(['a','e','c','d'],dtype=object)\n",
    "p=pd.Series(a,index=np.arange(1,len(a)+1))\n",
    "print(p,p[2],sep='\\n')"
   ]
  },
  {
   "cell_type": "code",
   "execution_count": 3,
   "metadata": {},
   "outputs": [
    {
     "name": "stdout",
     "output_type": "stream",
     "text": [
      "a    1\n",
      "b    2\n",
      "c    3\n",
      "dtype: int64\n",
      "2\n",
      "Index(['a', 'b', 'c'], dtype='object')\n",
      "(3,)\n",
      "int64\n",
      "3\n",
      "False\n",
      "False\n",
      "24\n",
      "1\n"
     ]
    }
   ],
   "source": [
    "# series from dictionary\n",
    "import pandas as pd\n",
    "p={'a':1,'b':2,'c':3}\n",
    "a=pd.Series(p)\n",
    "print(a,a[1],a.index,a.shape,a.dtype,a.size,a.empty,a.hasnans,a.nbytes,a.ndim,sep='\\n')"
   ]
  },
  {
   "cell_type": "code",
   "execution_count": 4,
   "metadata": {},
   "outputs": [
    {
     "name": "stdout",
     "output_type": "stream",
     "text": [
      "  ex\n",
      "1  a\n",
      "2  e\n",
      "3  c\n",
      "4  d\n",
      "1    i like a\n",
      "2    i like e\n",
      "3    i like c\n",
      "4    i like d\n",
      "Name: ex, dtype: object\n"
     ]
    }
   ],
   "source": [
    "# Series map function\n",
    "import pandas as pd\n",
    "import numpy as np\n",
    "a=['a','e','c','d']\n",
    "b=pd.Series(a,index=np.arange(1,len(a)+1),name='ex')\n",
    "b.map({'java':'core'})\n",
    "c=b.to_frame()\n",
    "print(c,b.map('i like {}'.format ),sep='\\n',end='\\n' )"
   ]
  },
  {
   "cell_type": "code",
   "execution_count": 5,
   "metadata": {},
   "outputs": [
    {
     "name": "stdout",
     "output_type": "stream",
     "text": [
      "1.707825127659933\n",
      "40.95131255527715\n"
     ]
    }
   ],
   "source": [
    "#standard devaiation\n",
    "import numpy as np\n",
    "import pandas as pd\n",
    "print(np.std([1,2,3,4,5,6]))\n",
    "print(np.std([1,2,3,4,5,6,-5,-55,85,91]))"
   ]
  },
  {
   "cell_type": "code",
   "execution_count": 6,
   "metadata": {},
   "outputs": [
    {
     "name": "stdout",
     "output_type": "stream",
     "text": [
      "   Age      Name\n",
      "1   16     Venky\n",
      "2   22   Krishna\n",
      "3   24  Srikanth\n"
     ]
    }
   ],
   "source": [
    "#Series to dataframes\n",
    "import pandas as pd\n",
    "import numpy as np\n",
    "name=['venky','Krishna','srikanth']\n",
    "age=[16,22,24]\n",
    "#creating Series\n",
    "s1=pd.Series(np.char.title(name),name='Name',index=np.arange(1,len(name)+1))\n",
    "s2=pd.Series(age,name='Age',index=np.arange(1,len(age)+1))\n",
    "# print(s1,s2,sep='\\n',end='\\n')\n",
    "\n",
    "#creating dataframes\n",
    "schema={'Name':s1,'Age':s2}\n",
    "df=pd.DataFrame(schema)\n",
    "print(df)\n"
   ]
  }
 ],
 "metadata": {
  "kernelspec": {
   "display_name": "Python 3",
   "language": "python",
   "name": "python3"
  },
  "language_info": {
   "codemirror_mode": {
    "name": "ipython",
    "version": 3
   },
   "file_extension": ".py",
   "mimetype": "text/x-python",
   "name": "python",
   "nbconvert_exporter": "python",
   "pygments_lexer": "ipython3",
   "version": "3.6.4"
  }
 },
 "nbformat": 4,
 "nbformat_minor": 4
}
