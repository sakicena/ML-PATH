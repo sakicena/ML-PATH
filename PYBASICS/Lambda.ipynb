{
 "cells": [
  {
   "cell_type": "code",
   "execution_count": 1,
   "metadata": {},
   "outputs": [
    {
     "name": "stdout",
     "output_type": "stream",
     "text": [
      "5\n",
      "25\n"
     ]
    }
   ],
   "source": [
    "#Lambda Functions are anonymous functions without function name\n",
    "#single argument\n",
    "a= lambda x:x**2;\n",
    "o=int(input())\n",
    "print(a(o))"
   ]
  },
  {
   "cell_type": "code",
   "execution_count": 2,
   "metadata": {},
   "outputs": [
    {
     "name": "stdout",
     "output_type": "stream",
     "text": [
      "10\n",
      "1\n",
      "10\n"
     ]
    }
   ],
   "source": [
    "#multiple argument\n",
    "a=lambda x,y:x**y;\n",
    "m,n=int(input()),int(input())\n",
    "print(a(m,n))"
   ]
  },
  {
   "cell_type": "code",
   "execution_count": 3,
   "metadata": {},
   "outputs": [
    {
     "name": "stdout",
     "output_type": "stream",
     "text": [
      "Enter the Number of the Table : 10\n",
      "Enter the Number upto which the Table will be printed : 2\n",
      "10  X  1  =  10\n",
      "10  X  2  =  20\n"
     ]
    }
   ],
   "source": [
    "#printing tables\n",
    "o = lambda a:a*b\n",
    "print(\"Enter the Number of the Table : \",end=\"\")\n",
    "b = int(input())\n",
    "print(\"Enter the Number upto which the Table will be printed : \",end=\"\")\n",
    "l= int(input())\n",
    "for i in range(1,l+1):\n",
    "    print(b ,\" X \" , i, \" = \",o(i))\n"
   ]
  },
  {
   "cell_type": "code",
   "execution_count": 4,
   "metadata": {},
   "outputs": [
    {
     "name": "stdout",
     "output_type": "stream",
     "text": [
      "[2, 4, 6, 8, 10, 12, 14, 16, 18, 20]\n"
     ]
    }
   ],
   "source": [
    "#Lambda with filter\n",
    "a=[1,2,3,4,5,6,7,8,9,10,11,12,13,14,15,16,17,18,19,20]\n",
    "evenlist=list(filter(lambda x:x%2==0,a))\n",
    "print(evenlist)"
   ]
  },
  {
   "cell_type": "code",
   "execution_count": 5,
   "metadata": {},
   "outputs": [
    {
     "name": "stdout",
     "output_type": "stream",
     "text": [
      "[1, 4, 9, 16, 25, 36, 49, 64, 81, 100]\n"
     ]
    }
   ],
   "source": [
    "#Lambda with map function\n",
    "a=[1,2,3,4,5,6,7,8,9,10]\n",
    "sqrlist=list(map(lambda x:x**2,a))\n",
    "print(sqrlist)"
   ]
  }
 ],
 "metadata": {
  "kernelspec": {
   "display_name": "Python 3",
   "language": "python",
   "name": "python3"
  },
  "language_info": {
   "codemirror_mode": {
    "name": "ipython",
    "version": 3
   },
   "file_extension": ".py",
   "mimetype": "text/x-python",
   "name": "python",
   "nbconvert_exporter": "python",
   "pygments_lexer": "ipython3",
   "version": "3.8.8"
  }
 },
 "nbformat": 4,
 "nbformat_minor": 2
}
