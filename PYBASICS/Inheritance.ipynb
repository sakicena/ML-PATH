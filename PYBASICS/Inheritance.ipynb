{
 "cells": [
  {
   "cell_type": "code",
   "execution_count": 1,
   "metadata": {},
   "outputs": [
    {
     "name": "stdout",
     "output_type": "stream",
     "text": [
      "Sai Krishna Javvadi\n",
      "The student named Sai Krishna Javvadi passed out on 2020\n",
      "<__main__.Student object at 0x0000027758024828>\n"
     ]
    }
   ],
   "source": [
    "class Person:\n",
    "    def __init__(self,fname,lname):\n",
    "        self.fname=fname\n",
    "        self.lname=lname\n",
    "    def printname(self):\n",
    "        print(self.fname , self.lname)\n",
    "p=Person('Sai Krishna','Javvadi')\n",
    "p.printname()\n",
    "\n",
    "class Student(Person):\n",
    "    def __init__(self,fname,lname,year):\n",
    "        super().__init__(fname,lname)\n",
    "        self.year=year\n",
    "    def printdetails(self):\n",
    "        print('The student named',self.fname,self.lname,'passed out on',self.year)\n",
    "s=Student('Sai Krishna','Javvadi',2020)\n",
    "s.printdetails()\n",
    "print(s)"
   ]
  },
  {
   "cell_type": "code",
   "execution_count": 2,
   "metadata": {},
   "outputs": [
    {
     "name": "stdout",
     "output_type": "stream",
     "text": [
      "Iam  Sai Krishna Javvadi and Iam a  Student and my number is  20\n"
     ]
    }
   ],
   "source": [
    "class Teacher:\n",
    "    def details(self,fname,lname,role):\n",
    "        self.fname=fname\n",
    "        self.lname=lname\n",
    "        self.role=role\n",
    "    def printdetails(self):\n",
    "        print(\"Iam \",fname,lname,\"and Iam a\",role,\"by profession\")\n",
    "class Student(Teacher):\n",
    "    def details(self,fname,lname,role,number):\n",
    "        super().details(fname,lname,role)\n",
    "        self.number=number\n",
    "    def printdetails(self):\n",
    "        print(\"Iam \",self.fname,self.lname,\"and Iam a \",self.role,\"and my number is \",self.number)\n",
    "s=Student()\n",
    "s.details('Sai Krishna','Javvadi','Student',20)\n",
    "s.printdetails()\n",
    "        "
   ]
  }
 ],
 "metadata": {
  "kernelspec": {
   "display_name": "Python 3",
   "language": "python",
   "name": "python3"
  },
  "language_info": {
   "codemirror_mode": {
    "name": "ipython",
    "version": 3
   },
   "file_extension": ".py",
   "mimetype": "text/x-python",
   "name": "python",
   "nbconvert_exporter": "python",
   "pygments_lexer": "ipython3",
   "version": "3.6.4"
  }
 },
 "nbformat": 4,
 "nbformat_minor": 2
}
