{
 "cells": [
  {
   "cell_type": "code",
   "execution_count": 1,
   "metadata": {},
   "outputs": [
    {
     "name": "stdout",
     "output_type": "stream",
     "text": [
      "191.com"
     ]
    }
   ],
   "source": [
    "a=1\n",
    "b=2\n",
    "print(a,a,sep='9',end='.com')"
   ]
  },
  {
   "cell_type": "code",
   "execution_count": 2,
   "metadata": {},
   "outputs": [
    {
     "name": "stdout",
     "output_type": "stream",
     "text": [
      "192.com"
     ]
    }
   ],
   "source": [
    "print(a,b, sep='9',end='.com')"
   ]
  },
  {
   "cell_type": "code",
   "execution_count": 3,
   "metadata": {},
   "outputs": [
    {
     "name": "stdout",
     "output_type": "stream",
     "text": [
      "1919F9G0"
     ]
    }
   ],
   "source": [
    "print(a,a,'F','G', sep='9',end='0')"
   ]
  },
  {
   "cell_type": "code",
   "execution_count": 4,
   "metadata": {},
   "outputs": [
    {
     "name": "stdout",
     "output_type": "stream",
     "text": [
      "10$$$$$"
     ]
    }
   ],
   "source": [
    "a=10\n",
    "print( a, sep='0', end='$$$$$') "
   ]
  },
  {
   "cell_type": "code",
   "execution_count": 5,
   "metadata": {},
   "outputs": [
    {
     "name": "stdout",
     "output_type": "stream",
     "text": [
      "My four favorite batsmens are Sachin,Rohit,Virat,Dhoni\n"
     ]
    }
   ],
   "source": [
    "c='Sachin'\n",
    "d='Rohit'\n",
    "e='Virat'\n",
    "f='Dhoni'\n",
    "print('My four favorite batsmens are',end= ' ')\n",
    "print(c,d,e,f,sep=',',end='\\n' )"
   ]
  },
  {
   "cell_type": "code",
   "execution_count": 6,
   "metadata": {},
   "outputs": [
    {
     "name": "stdout",
     "output_type": "stream",
     "text": [
      "4\n",
      "End of for loop\n"
     ]
    }
   ],
   "source": [
    "list1 = [1, 2, 3, 4, 5]  \n",
    "for i in list1:    \n",
    "    if i!=4:\n",
    "        continue;\n",
    "    print(i)\n",
    "print(\"End of for loop\")"
   ]
  },
  {
   "cell_type": "code",
   "execution_count": 7,
   "metadata": {},
   "outputs": [
    {
     "data": {
      "text/plain": [
       "'\\nHey Dude Whatsapp\\nprint it for me\\n'"
      ]
     },
     "execution_count": 7,
     "metadata": {},
     "output_type": "execute_result"
    }
   ],
   "source": [
    "\"\"\"\n",
    "Hey Dude Whatsapp\n",
    "print it for me\n",
    "\"\"\"\n"
   ]
  },
  {
   "cell_type": "code",
   "execution_count": 8,
   "metadata": {},
   "outputs": [
    {
     "name": "stdout",
     "output_type": "stream",
     "text": [
      "10451807\n",
      "Global to Local Variable\n"
     ]
    }
   ],
   "source": [
    "x=10451807\n",
    "def globallocal():\n",
    "    global x\n",
    "    print(x)\n",
    "    x=\"Global to Local Variable\"\n",
    "    print(x)\n",
    "globallocal()"
   ]
  },
  {
   "cell_type": "code",
   "execution_count": 9,
   "metadata": {},
   "outputs": [
    {
     "name": "stdout",
     "output_type": "stream",
     "text": [
      "<class 'int'>\n"
     ]
    }
   ],
   "source": [
    "x=10\n",
    "print(type(x))"
   ]
  },
  {
   "cell_type": "code",
   "execution_count": 10,
   "metadata": {},
   "outputs": [
    {
     "name": "stdout",
     "output_type": "stream",
     "text": [
      "<class 'int'>\n",
      "<class 'float'>\n",
      "<class 'complex'>\n"
     ]
    }
   ],
   "source": [
    "a=10\n",
    "b=10.5\n",
    "c=10+10j\n",
    "print(type(a))\n",
    "print(type(b))\n",
    "print(type(c))\n"
   ]
  },
  {
   "cell_type": "code",
   "execution_count": 11,
   "metadata": {},
   "outputs": [
    {
     "name": "stdout",
     "output_type": "stream",
     "text": [
      "string single line <class 'str'>\n",
      "\n",
      "multiple\n",
      "line\n",
      "string\n",
      " <class 'str'>\n"
     ]
    }
   ],
   "source": [
    "#Commments\n",
    "a=\"string single line\"\n",
    "b='''\n",
    "multiple\n",
    "line\n",
    "string\n",
    "'''\n",
    "print(a,type(a))\n",
    "print(b,type(b))"
   ]
  },
  {
   "cell_type": "code",
   "execution_count": 12,
   "metadata": {},
   "outputs": [
    {
     "name": "stdout",
     "output_type": "stream",
     "text": [
      "hi\n",
      "hi,this is sai krishn\n",
      "n\n",
      "hihi\n"
     ]
    }
   ],
   "source": [
    "a=\"hi,this is sai krishna\"\n",
    "print(a[0:2])\n",
    "print(a[:-1])\n",
    "print(a[-2:-1])\n",
    "print(a[0:2]*2)"
   ]
  },
  {
   "cell_type": "code",
   "execution_count": 13,
   "metadata": {},
   "outputs": [
    {
     "name": "stdout",
     "output_type": "stream",
     "text": [
      "[1, 'One'] <class 'list'>\n",
      "[3, 'Three'] <class 'list'>\n",
      "(2, 'Two') <class 'tuple'>\n"
     ]
    }
   ],
   "source": [
    "#List and Tuple\n",
    "a=[1,\"One\"]\n",
    "b=[2,\"Two\",[3,\"Three\"]]\n",
    "c=(1,\"One\",(2,\"Two\"))\n",
    "print(a,type(a))\n",
    "print(b[-1],type(b))\n",
    "print(c[-1],type(c))"
   ]
  },
  {
   "cell_type": "code",
   "execution_count": 14,
   "metadata": {},
   "outputs": [
    {
     "name": "stdout",
     "output_type": "stream",
     "text": [
      "{1: 1, 2: 2, 3: 'Three'}\n",
      "dict_keys([1, 2, 3]) dict_values([1, 2, 'Three']) dict_items([(1, 1), (2, 2), (3, 'Three')])\n"
     ]
    }
   ],
   "source": [
    "#Dictionary\n",
    "a={1:1,2:2,3:'Three'}\n",
    "print(a)\n",
    "print(a.keys(),a.values(),a.items())\n"
   ]
  },
  {
   "cell_type": "code",
   "execution_count": 15,
   "metadata": {},
   "outputs": [
    {
     "name": "stdout",
     "output_type": "stream",
     "text": [
      "True <class 'bool'>\n"
     ]
    }
   ],
   "source": [
    "#Boolean\n",
    "a=True\n",
    "print(a,type(a))"
   ]
  },
  {
   "cell_type": "code",
   "execution_count": 16,
   "metadata": {},
   "outputs": [
    {
     "name": "stdout",
     "output_type": "stream",
     "text": [
      "{1, 2, 'Two', 'One'} <class 'set'>\n",
      "{1, 2, 'Two', 'One'} <class 'set'>\n",
      "{2, 'Two'}\n",
      "{'Two'}\n"
     ]
    }
   ],
   "source": [
    "#Set\n",
    "a={1,2,\"One\",\"Two\"}\n",
    "b={1,2,\"One\",\"Two\",'Two',1}\n",
    "c=set()\n",
    "print(a,type(a))\n",
    "print(b,type(b))\n",
    "c.add(2)\n",
    "c.add('Two')\n",
    "print(c)\n",
    "c.remove(2)\n",
    "print(c)"
   ]
  },
  {
   "cell_type": "code",
   "execution_count": 17,
   "metadata": {},
   "outputs": [],
   "source": [
    "#Assertion\n",
    "a=10\n",
    "# b=0\n",
    "# print('a is dividing by 0')\n",
    "# assert b != 0\n",
    "# print(a/b)"
   ]
  },
  {
   "cell_type": "code",
   "execution_count": 18,
   "metadata": {},
   "outputs": [
    {
     "name": "stdout",
     "output_type": "stream",
     "text": [
      "11\n"
     ]
    }
   ],
   "source": [
    "#Defining Function\n",
    "def myadd(a,b):\n",
    "    print(a+b)\n",
    "myadd(5,6)\n",
    "    "
   ]
  },
  {
   "cell_type": "code",
   "execution_count": 19,
   "metadata": {},
   "outputs": [
    {
     "name": "stdout",
     "output_type": "stream",
     "text": [
      "division by zero\n",
      "finally keyword\n",
      "<class 'float'>\n"
     ]
    }
   ],
   "source": [
    "#Exception\n",
    "a=10\n",
    "try:\n",
    "    b=a/0\n",
    "except Exception as e:\n",
    "    print(e)\n",
    "finally:\n",
    "    print('finally keyword')\n",
    "\n",
    "    \n",
    "b=7.0\n",
    "print(type(b))\n",
    "# if b>4.0:\n",
    "#     raise Exception('a should below 4.0')"
   ]
  },
  {
   "cell_type": "code",
   "execution_count": 20,
   "metadata": {},
   "outputs": [
    {
     "name": "stdout",
     "output_type": "stream",
     "text": [
      "1\n",
      "2\n",
      "3\n",
      "4\n",
      "5\n",
      "50\n",
      "49\n",
      "48\n",
      "47\n",
      "46\n"
     ]
    }
   ],
   "source": [
    "#For Loop\n",
    "a=[1,2,3,4,5]\n",
    "for i in a:\n",
    "    print(i)\n",
    "\n",
    "#While Loop\n",
    "b=50\n",
    "while(b>45):\n",
    "    print(b)\n",
    "    b-=1\n"
   ]
  },
  {
   "cell_type": "code",
   "execution_count": 21,
   "metadata": {},
   "outputs": [
    {
     "name": "stdout",
     "output_type": "stream",
     "text": [
      "5.0\n",
      "5.0\n"
     ]
    }
   ],
   "source": [
    "#Math \n",
    "import math\n",
    "a=25\n",
    "print(math.sqrt(a))\n",
    "from math import sqrt\n",
    "print(sqrt(a))"
   ]
  },
  {
   "cell_type": "code",
   "execution_count": 22,
   "metadata": {},
   "outputs": [
    {
     "name": "stdout",
     "output_type": "stream",
     "text": [
      "15\n"
     ]
    }
   ],
   "source": [
    "#pass keyword\n",
    "class class_name:\n",
    "    pass\n",
    "def function():\n",
    "    pass\n",
    "\n",
    "\n",
    "#Return Statement\n",
    "\n",
    "def functionr(a,b):\n",
    "    c=a+b\n",
    "    return c\n",
    "d=functionr(10,5)\n",
    "print(d)"
   ]
  },
  {
   "cell_type": "code",
   "execution_count": 23,
   "metadata": {},
   "outputs": [
    {
     "name": "stdout",
     "output_type": "stream",
     "text": [
      "Inner function:  30\n",
      "Outer function:  50\n"
     ]
    }
   ],
   "source": [
    "def outside_function():  \n",
    "    a = 50   \n",
    "    def inside_function():  \n",
    "        \n",
    "        a = 30  \n",
    "        print(\"Inner function: \",a)  \n",
    "    inside_function()  \n",
    "    print(\"Outer function: \",a)  \n",
    "outside_function()  "
   ]
  },
  {
   "cell_type": "code",
   "execution_count": 24,
   "metadata": {},
   "outputs": [
    {
     "name": "stdout",
     "output_type": "stream",
     "text": [
      "4\n",
      "3\n",
      "2\n"
     ]
    }
   ],
   "source": [
    "def fun_Generator():\n",
    "    yield 4\n",
    "    yield 3\n",
    "    yield 2  \n",
    "  \n",
    "  \n",
    "# Driver code to check above generator function   \n",
    "for value in fun_Generator():\n",
    "    print(value)"
   ]
  },
  {
   "cell_type": "code",
   "execution_count": 25,
   "metadata": {},
   "outputs": [
    {
     "name": "stdout",
     "output_type": "stream",
     "text": [
      "4\n",
      "4.761904761904762\n"
     ]
    }
   ],
   "source": [
    "print(100//21)\n",
    "print(100/21)"
   ]
  },
  {
   "cell_type": "code",
   "execution_count": 26,
   "metadata": {},
   "outputs": [
    {
     "name": "stdout",
     "output_type": "stream",
     "text": [
      "\n",
      "1 \n",
      "2 2 \n",
      "3 3 3 \n",
      "4 4 4 4 \n"
     ]
    }
   ],
   "source": [
    "# User input for number of rows  \n",
    " \n",
    "# Outer loop will print number of rows  \n",
    "for i in range(0,5):  \n",
    "# Inner loop will print number of Astrisk  \n",
    "    for j in range(i):  \n",
    "        print(i,end=' ') \n",
    "    print()\n",
    "  "
   ]
  },
  {
   "cell_type": "code",
   "execution_count": 27,
   "metadata": {},
   "outputs": [
    {
     "name": "stdout",
     "output_type": "stream",
     "text": [
      "Current number :  i 5\n",
      "Current number :  u 5\n",
      "Current number :  i 5\n",
      "Current number :  k 5\n",
      "Current number :  w 5\n"
     ]
    }
   ],
   "source": [
    "example='iuikw'\n",
    "i=0\n",
    "while(i<len(example)):\n",
    "    print('Current number : ',example[i],len(example))\n",
    "    i=i+1"
   ]
  },
  {
   "cell_type": "code",
   "execution_count": 28,
   "metadata": {},
   "outputs": [
    {
     "name": "stdout",
     "output_type": "stream",
     "text": [
      "Counter({'f': 5, 'a': 4, 's': 4, 'd': 2, 'w': 2, 'E': 2, 'W': 2, 'q': 2, 'z': 2, 'S': 2, 'F': 1, 'e': 1, 'Z': 1, 'A': 1, 'Q': 1})\n"
     ]
    }
   ],
   "source": [
    "from collections import Counter\n",
    "a='asdfasdawfFEWfweqfWEqsaZAzSzSQsf'\n",
    "b=Counter(a)\n",
    "print(b)"
   ]
  },
  {
   "cell_type": "code",
   "execution_count": 29,
   "metadata": {},
   "outputs": [
    {
     "name": "stdout",
     "output_type": "stream",
     "text": [
      "0\n"
     ]
    }
   ],
   "source": [
    "#Operators\n",
    "print(2100%100)\n"
   ]
  },
  {
   "cell_type": "code",
   "execution_count": 30,
   "metadata": {},
   "outputs": [
    {
     "name": "stdout",
     "output_type": "stream",
     "text": [
      "0 7 14 21 28 35 42 49 56 63 70 77 84 91 98 \n",
      "Lenth of a is : 15\n",
      "[0, 7, 14, 21, 28, 35, 42, 49, 56, 63, 70, 77, 84, 91, 98]\n"
     ]
    }
   ],
   "source": [
    "a=[]\n",
    "for i in range(0,100,7):\n",
    "    a.append(i)\n",
    "    print(i,end=\" \")\n",
    "print(\"\\nLenth of a is :\",end=\" \")\n",
    "print(len(a))\n",
    "print(a)\n",
    "\n",
    "    "
   ]
  },
  {
   "cell_type": "code",
   "execution_count": 31,
   "metadata": {},
   "outputs": [
    {
     "name": "stdout",
     "output_type": "stream",
     "text": [
      "2 X 1 = 2\n",
      "\n",
      "2 X 2 = 4\n",
      "\n",
      "2 X 3 = 6\n",
      "\n",
      "2 X 4 = 8\n",
      "\n",
      "2 X 5 = 10\n",
      "\n",
      "2 X 6 = 12\n",
      "\n",
      "2 X 7 = 14\n",
      "\n",
      "2 X 8 = 16\n",
      "\n",
      "2 X 9 = 18\n",
      "\n",
      "2 X 10 = 20\n",
      "\n",
      "\n",
      "Do you want to continue printing the table, press 0 for no OR Enter number of your choice for printing the table : 0\n",
      "\n",
      "\n"
     ]
    }
   ],
   "source": [
    "n=2  \n",
    "while 1:  \n",
    "    i=1;  \n",
    "    while i<=10:  \n",
    "        print(\"%d X %d = %d\\n\"%(n,i,n*i));  \n",
    "        i = i+1;  \n",
    "    choice = int(input(\"\\nDo you want to continue printing the table, press 0 for no OR Enter number of your choice for printing the table : \"))  \n",
    "    print('\\n')\n",
    "    if choice == 0:  \n",
    "        break;    \n",
    "    n=choice  "
   ]
  },
  {
   "cell_type": "code",
   "execution_count": 32,
   "metadata": {},
   "outputs": [
    {
     "name": "stdout",
     "output_type": "stream",
     "text": [
      "Krishna Sai \n"
     ]
    }
   ],
   "source": [
    "#String Reversing\n",
    "a=' iaS anhsirK'\n",
    "print(a[::-1])"
   ]
  },
  {
   "cell_type": "code",
   "execution_count": 33,
   "metadata": {},
   "outputs": [
    {
     "name": "stdout",
     "output_type": "stream",
     "text": [
      "Sai Krishna Javvadi\n",
      "JavvadiJavvadi\n",
      "True\n",
      "False\n",
      "C://python\n",
      "My Name is: Sai Krishna \n",
      "My Family Name is: Javvadi\n"
     ]
    }
   ],
   "source": [
    "#String Operators\n",
    "str='Sai Krishna'\n",
    "str1='Javvadi'\n",
    "print(str+' '+str1)\n",
    "print(str1*2)\n",
    "print('r' in str)\n",
    "print('r' in str1)\n",
    "print(\"C://python\")\n",
    "print(\"My Name is:\",str,\"\")\n",
    "print(\"My Family Name is: {}\".format(str1))\n"
   ]
  },
  {
   "cell_type": "code",
   "execution_count": 34,
   "metadata": {},
   "outputs": [
    {
     "name": "stdout",
     "output_type": "stream",
     "text": [
      "False\n"
     ]
    }
   ],
   "source": [
    "# Python endswith() function example  \n",
    "# Variable declaration  \n",
    "str = \"Hello this is javatpoint.\"  \n",
    "isends = str.endswith(\"is\",10,12)  \n",
    "# Displaying result  \n",
    "print(isends)"
   ]
  },
  {
   "cell_type": "code",
   "execution_count": 35,
   "metadata": {},
   "outputs": [
    {
     "name": "stdout",
     "output_type": "stream",
     "text": [
      "('Java ', 'is', ' a programming language')\n",
      "('', 'Java', ' is a programming language')\n",
      "('Java is a programming ', 'language', '')\n",
      "('J', 'av', 'a is a programming language')\n"
     ]
    }
   ],
   "source": [
    "# Python partition() method example  \n",
    "# Variable declaration  \n",
    "str = \"Java is a programming language\"  \n",
    "# Calling function  \n",
    "str2 = str.partition(\"is\")  \n",
    "# Displaying result  \n",
    "print(str2)  \n",
    "# when seperate from the start  \n",
    "str2 = str.partition(\"Java\")  \n",
    "print(str2)  \n",
    "# when seperate is the end  \n",
    "str2 = str.partition(\"language\")  \n",
    "print(str2)  \n",
    "# when seperater is a substring  \n",
    "str2 = str.partition(\"av\")  \n",
    "print(str2)  "
   ]
  },
  {
   "cell_type": "code",
   "execution_count": 36,
   "metadata": {},
   "outputs": [
    {
     "name": "stdout",
     "output_type": "stream",
     "text": [
      "00000000Ja\n"
     ]
    }
   ],
   "source": [
    "str = 'Ja'  \n",
    "# Calling function  \n",
    "str = str.rjust(10,'0')  \n",
    "# Displaying result  \n",
    "print(str)"
   ]
  },
  {
   "cell_type": "code",
   "execution_count": 37,
   "metadata": {},
   "outputs": [
    {
     "name": "stdout",
     "output_type": "stream",
     "text": [
      "{1: 3}\n"
     ]
    }
   ],
   "source": [
    "a={1:1,1:2,1:3}\n",
    "print(a)"
   ]
  },
  {
   "cell_type": "code",
   "execution_count": 38,
   "metadata": {},
   "outputs": [
    {
     "name": "stdout",
     "output_type": "stream",
     "text": [
      "type of passed argument is  <class 'tuple'>\n",
      "printing the passed arguments...\n",
      "john\n",
      "David\n",
      "smith\n",
      "nick\n"
     ]
    }
   ],
   "source": [
    "def printme(*names):    \n",
    "    print(\"type of passed argument is \",type(names))    \n",
    "    print(\"printing the passed arguments...\")    \n",
    "    for name in names:    \n",
    "        print(name)    \n",
    "printme(\"john\",\"David\",\"smith\",\"nick\")\n"
   ]
  },
  {
   "cell_type": "code",
   "execution_count": 39,
   "metadata": {},
   "outputs": [
    {
     "name": "stdout",
     "output_type": "stream",
     "text": [
      "[2, 4, 6, 8]\n",
      "[2, 4, 6, 8]\n"
     ]
    }
   ],
   "source": [
    "def calculateAddition(n):\n",
    "    return n+n  \n",
    "  \n",
    "numbers = (1, 2, 3, 4)  \n",
    "resul = map(calculateAddition, numbers)\n",
    "result=sorted(resul)\n",
    "print(result)  \n",
    "  \n",
    "# converting map object to set  \n",
    "numbersAddition = result  \n",
    "print(numbersAddition)  "
   ]
  },
  {
   "cell_type": "code",
   "execution_count": 40,
   "metadata": {},
   "outputs": [
    {
     "name": "stdout",
     "output_type": "stream",
     "text": [
      "[]\n",
      "{(1, 'zour'), (6, 'tzve'), (2, 'three')}\n"
     ]
    }
   ],
   "source": [
    "numList = [1,6,2]  \n",
    "strList = ['zour', 'tzve', 'three']  \n",
    "  \n",
    "# No iterables are passed  \n",
    "result = zip()  \n",
    "  \n",
    "# Converting itertor to list  \n",
    "resultList = list(result)  \n",
    "print(resultList)  \n",
    "  \n",
    "# Two iterables are passed  \n",
    "result = zip(numList, strList)  \n",
    "  \n",
    "# Converting itertor to set  \n",
    "resultSet = set(result)  \n",
    "print(resultSet)  "
   ]
  },
  {
   "cell_type": "code",
   "execution_count": 41,
   "metadata": {},
   "outputs": [
    {
     "name": "stdout",
     "output_type": "stream",
     "text": [
      "mul =  200\n",
      "Enter the number:10\n",
      "10 X 1 = 10\n",
      "10 X 2 = 20\n",
      "10 X 3 = 30\n",
      "10 X 4 = 40\n",
      "10 X 5 = 50\n",
      "10 X 6 = 60\n",
      "10 X 7 = 70\n",
      "10 X 8 = 80\n",
      "10 X 9 = 90\n",
      "10 X 10 = 100\n"
     ]
    }
   ],
   "source": [
    "# a and b are the arguments and a*b is the expression which gets evaluated and returned.    \n",
    "x = lambda a,b: a*b  \n",
    "print(\"mul = \", x(20,10))  \n",
    "# <p><strong>Output:</strong></p>  \n",
    "# <div class=\"codeblock3\"><pre>  \n",
    "# mul =  200  \n",
    "# </pre></div>  \n",
    "# <h2 class=\"h2\">Why use lambda function?</h2>  \n",
    "# <p>The main role of the lambda function is better described in the scenarios when we use them anonymously inside another function. In Python, the lambda function can be used as an argument to the <strong>higher-order functions</strong> which accepts other functions as arguments.</p>  \n",
    "# <p>Consider the following example:</p>  \n",
    "# <h3 class=\"h3\">Example 1:</h3>  \n",
    "# <div class=\"codeblock\"><textarea name=\"code\" class=\"python\">  \n",
    "#the function table(n) prints the table of n    \n",
    "def table(n):    \n",
    "    return lambda a:a*n # a will contain the iteration variable i and a multiple of n is returned at each function call    \n",
    "n = int(input(\"Enter the number:\"))    \n",
    "b = table(n) #the entered number is passed into the function table. b will contain a lambda function which is called again and again with the iteration variable i    \n",
    "for i in range(1,11):    \n",
    "    print(n,\"X\",i,\"=\",b(i))\n",
    "    #the lambda function b is called with the iteration variable i  "
   ]
  },
  {
   "cell_type": "code",
   "execution_count": 42,
   "metadata": {},
   "outputs": [
    {
     "name": "stdout",
     "output_type": "stream",
     "text": [
      "(37, 41, 123, 29)\n"
     ]
    }
   ],
   "source": [
    "lst = (10,22,37,41,102,123,29)  \n",
    "oddlist = tuple(filter(lambda x:(x%2 != 0),lst)) # the tuple contains all the items of the tuple for which the lambda function evaluates to true    \n",
    "print(oddlist)"
   ]
  },
  {
   "cell_type": "code",
   "execution_count": 44,
   "metadata": {},
   "outputs": [
    {
     "data": {
      "text/plain": [
       "['__add__',\n",
       " '__class__',\n",
       " '__contains__',\n",
       " '__delattr__',\n",
       " '__delitem__',\n",
       " '__dir__',\n",
       " '__doc__',\n",
       " '__eq__',\n",
       " '__format__',\n",
       " '__ge__',\n",
       " '__getattribute__',\n",
       " '__getitem__',\n",
       " '__gt__',\n",
       " '__hash__',\n",
       " '__iadd__',\n",
       " '__imul__',\n",
       " '__init__',\n",
       " '__init_subclass__',\n",
       " '__iter__',\n",
       " '__le__',\n",
       " '__len__',\n",
       " '__lt__',\n",
       " '__mul__',\n",
       " '__ne__',\n",
       " '__new__',\n",
       " '__reduce__',\n",
       " '__reduce_ex__',\n",
       " '__repr__',\n",
       " '__reversed__',\n",
       " '__rmul__',\n",
       " '__setattr__',\n",
       " '__setitem__',\n",
       " '__sizeof__',\n",
       " '__str__',\n",
       " '__subclasshook__',\n",
       " 'append',\n",
       " 'clear',\n",
       " 'copy',\n",
       " 'count',\n",
       " 'extend',\n",
       " 'index',\n",
       " 'insert',\n",
       " 'pop',\n",
       " 'remove',\n",
       " 'reverse',\n",
       " 'sort']"
      ]
     },
     "execution_count": 44,
     "metadata": {},
     "output_type": "execute_result"
    }
   ],
   "source": [
    "dir(list)"
   ]
  },
  {
   "cell_type": "code",
   "execution_count": 45,
   "metadata": {},
   "outputs": [
    {
     "data": {
      "text/plain": [
       "['__add__',\n",
       " '__class__',\n",
       " '__contains__',\n",
       " '__delattr__',\n",
       " '__dir__',\n",
       " '__doc__',\n",
       " '__eq__',\n",
       " '__format__',\n",
       " '__ge__',\n",
       " '__getattribute__',\n",
       " '__getitem__',\n",
       " '__getnewargs__',\n",
       " '__gt__',\n",
       " '__hash__',\n",
       " '__init__',\n",
       " '__init_subclass__',\n",
       " '__iter__',\n",
       " '__le__',\n",
       " '__len__',\n",
       " '__lt__',\n",
       " '__mul__',\n",
       " '__ne__',\n",
       " '__new__',\n",
       " '__reduce__',\n",
       " '__reduce_ex__',\n",
       " '__repr__',\n",
       " '__rmul__',\n",
       " '__setattr__',\n",
       " '__sizeof__',\n",
       " '__str__',\n",
       " '__subclasshook__',\n",
       " 'count',\n",
       " 'index']"
      ]
     },
     "execution_count": 45,
     "metadata": {},
     "output_type": "execute_result"
    }
   ],
   "source": [
    "dir(tuple)"
   ]
  },
  {
   "cell_type": "code",
   "execution_count": 46,
   "metadata": {},
   "outputs": [
    {
     "data": {
      "text/plain": [
       "['__class__',\n",
       " '__contains__',\n",
       " '__delattr__',\n",
       " '__delitem__',\n",
       " '__dir__',\n",
       " '__doc__',\n",
       " '__eq__',\n",
       " '__format__',\n",
       " '__ge__',\n",
       " '__getattribute__',\n",
       " '__getitem__',\n",
       " '__gt__',\n",
       " '__hash__',\n",
       " '__init__',\n",
       " '__init_subclass__',\n",
       " '__iter__',\n",
       " '__le__',\n",
       " '__len__',\n",
       " '__lt__',\n",
       " '__ne__',\n",
       " '__new__',\n",
       " '__reduce__',\n",
       " '__reduce_ex__',\n",
       " '__repr__',\n",
       " '__setattr__',\n",
       " '__setitem__',\n",
       " '__sizeof__',\n",
       " '__str__',\n",
       " '__subclasshook__',\n",
       " 'clear',\n",
       " 'copy',\n",
       " 'fromkeys',\n",
       " 'get',\n",
       " 'items',\n",
       " 'keys',\n",
       " 'pop',\n",
       " 'popitem',\n",
       " 'setdefault',\n",
       " 'update',\n",
       " 'values']"
      ]
     },
     "execution_count": 46,
     "metadata": {},
     "output_type": "execute_result"
    }
   ],
   "source": [
    "dir(dict)"
   ]
  },
  {
   "cell_type": "code",
   "execution_count": 1,
   "metadata": {},
   "outputs": [
    {
     "data": {
      "text/plain": [
       "0"
      ]
     },
     "execution_count": 1,
     "metadata": {},
     "output_type": "execute_result"
    }
   ],
   "source": [
    "max(0,-10)"
   ]
  },
  {
   "cell_type": "code",
   "execution_count": null,
   "metadata": {},
   "outputs": [],
   "source": [
    "import re\n",
    "def fun(s):\n",
    "    "
   ]
  }
 ],
 "metadata": {
  "kernelspec": {
   "display_name": "Python 3",
   "language": "python",
   "name": "python3"
  },
  "language_info": {
   "codemirror_mode": {
    "name": "ipython",
    "version": 3
   },
   "file_extension": ".py",
   "mimetype": "text/x-python",
   "name": "python",
   "nbconvert_exporter": "python",
   "pygments_lexer": "ipython3",
   "version": "3.6.4"
  }
 },
 "nbformat": 4,
 "nbformat_minor": 2
}
