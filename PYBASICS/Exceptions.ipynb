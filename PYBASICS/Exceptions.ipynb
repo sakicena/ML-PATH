{
 "cells": [
  {
   "cell_type": "code",
   "execution_count": 1,
   "metadata": {},
   "outputs": [
    {
     "name": "stdout",
     "output_type": "stream",
     "text": [
      "Enter the value of a : 10\n",
      "Enter the value of b : 0\n"
     ]
    },
    {
     "ename": "ZeroDivisionError",
     "evalue": "division by zero",
     "output_type": "error",
     "traceback": [
      "\u001b[1;31m---------------------------------------------------------------------------\u001b[0m",
      "\u001b[1;31mZeroDivisionError\u001b[0m                         Traceback (most recent call last)",
      "\u001b[1;32m<ipython-input-1-18df91715763>\u001b[0m in \u001b[0;36m<module>\u001b[1;34m()\u001b[0m\n\u001b[0;32m      2\u001b[0m \u001b[0ma\u001b[0m \u001b[1;33m=\u001b[0m \u001b[0mint\u001b[0m\u001b[1;33m(\u001b[0m\u001b[0minput\u001b[0m\u001b[1;33m(\u001b[0m\u001b[1;34m\"Enter the value of a : \"\u001b[0m\u001b[1;33m)\u001b[0m\u001b[1;33m)\u001b[0m\u001b[1;33m\u001b[0m\u001b[0m\n\u001b[0;32m      3\u001b[0m \u001b[0mb\u001b[0m \u001b[1;33m=\u001b[0m \u001b[0mint\u001b[0m\u001b[1;33m(\u001b[0m\u001b[0minput\u001b[0m\u001b[1;33m(\u001b[0m\u001b[1;34m\"Enter the value of b : \"\u001b[0m\u001b[1;33m)\u001b[0m\u001b[1;33m)\u001b[0m\u001b[1;33m\u001b[0m\u001b[0m\n\u001b[1;32m----> 4\u001b[1;33m \u001b[0mprint\u001b[0m\u001b[1;33m(\u001b[0m\u001b[0ma\u001b[0m\u001b[1;33m/\u001b[0m\u001b[0mb\u001b[0m\u001b[1;33m)\u001b[0m\u001b[1;33m\u001b[0m\u001b[0m\n\u001b[0m\u001b[0;32m      5\u001b[0m \u001b[0mprint\u001b[0m\u001b[1;33m(\u001b[0m\u001b[1;34m\"It will not be working as the exception has been occured\"\u001b[0m\u001b[1;33m)\u001b[0m\u001b[1;33m\u001b[0m\u001b[0m\n",
      "\u001b[1;31mZeroDivisionError\u001b[0m: division by zero"
     ]
    }
   ],
   "source": [
    "#Division by Zero Exception no handling\n",
    "a = int(input(\"Enter the value of a : \"))\n",
    "b = int(input(\"Enter the value of b : \"))\n",
    "print(a/b)\n",
    "print(\"It will not be working as the exception has been occured\")"
   ]
  },
  {
   "cell_type": "code",
   "execution_count": 2,
   "metadata": {},
   "outputs": [
    {
     "name": "stdout",
     "output_type": "stream",
     "text": [
      "Enter the value of a : 10\n",
      "Enter the value of b : 0\n",
      "It will be working as the exception has been handled\n"
     ]
    }
   ],
   "source": [
    "#Division by Zero Exception with handling with try block and except block\n",
    "try:\n",
    "    a = int(input(\"Enter the value of a : \"))\n",
    "    b = int(input(\"Enter the value of b : \"))\n",
    "    print(a/b)\n",
    "except:\n",
    "    print(\"It will be working as the exception has been handled\")"
   ]
  },
  {
   "cell_type": "code",
   "execution_count": 3,
   "metadata": {},
   "outputs": [
    {
     "name": "stdout",
     "output_type": "stream",
     "text": [
      "Enter the value of a : 10\n",
      "Enter the value of b : 0\n",
      "<class 'Exception'>\n",
      "Exception occurs divided by zero\n"
     ]
    }
   ],
   "source": [
    "#Try,Except and Else block usage\n",
    "try:\n",
    "    a = int(input(\"Enter the value of a : \"))\n",
    "    b = int(input(\"Enter the value of b : \"))\n",
    "    print(a/b)\n",
    "except Exception:\n",
    "    print(Exception)\n",
    "    print('Exception occurs divided by zero')\n",
    "else:\n",
    "    print(\"exception not occured\")\n",
    "    "
   ]
  },
  {
   "cell_type": "code",
   "execution_count": 4,
   "metadata": {},
   "outputs": [
    {
     "name": "stdout",
     "output_type": "stream",
     "text": [
      "file not found\n"
     ]
    }
   ],
   "source": [
    "#Try ,Except and else ,finally block\n",
    "try:\n",
    "    fileptr = open(\"openn.xt\",\"r\")\n",
    "    try:\n",
    "        fileptr.write(\"\\nHi Krishna!\")\n",
    "    finally:\n",
    "        fileptr.close()\n",
    "        print(\"file closed\")\n",
    "except:\n",
    "    print(\"file not found\")"
   ]
  },
  {
   "cell_type": "code",
   "execution_count": 13,
   "metadata": {},
   "outputs": [
    {
     "name": "stdout",
     "output_type": "stream",
     "text": [
      "Enter your Age : 17\n",
      "Not eligible \n"
     ]
    }
   ],
   "source": [
    "#Raise Exception\n",
    "try:\n",
    "    age = int(input('Enter your Age : '))\n",
    "    if (age< 18):\n",
    "        raise ValueError\n",
    "    else:\n",
    "        print(\"Eligible\")\n",
    "except ValueError as e:\n",
    "    print(\"Not eligible\",e)\n",
    "    \n",
    "        "
   ]
  },
  {
   "cell_type": "code",
   "execution_count": 15,
   "metadata": {},
   "outputs": [
    {
     "name": "stdout",
     "output_type": "stream",
     "text": [
      "Enter your Age : 18\n",
      "Eligible\n"
     ]
    }
   ],
   "source": [
    "#Raise message Exception\n",
    "try:\n",
    "    age = int(input('Enter your Age : '))\n",
    "    if (age<18):\n",
    "        raise ValueError(\"Not Eligible\")\n",
    "    else:\n",
    "        print(\"Eligible\")\n",
    "except ValueError as e:\n",
    "    print(e)"
   ]
  }
 ],
 "metadata": {
  "kernelspec": {
   "display_name": "Python 3",
   "language": "python",
   "name": "python3"
  },
  "language_info": {
   "codemirror_mode": {
    "name": "ipython",
    "version": 3
   },
   "file_extension": ".py",
   "mimetype": "text/x-python",
   "name": "python",
   "nbconvert_exporter": "python",
   "pygments_lexer": "ipython3",
   "version": "3.6.4"
  }
 },
 "nbformat": 4,
 "nbformat_minor": 2
}
