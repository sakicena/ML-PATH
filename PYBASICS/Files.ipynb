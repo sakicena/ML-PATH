{
 "cells": [
  {
   "cell_type": "code",
   "execution_count": 1,
   "metadata": {},
   "outputs": [
    {
     "name": "stdout",
     "output_type": "stream",
     "text": [
      "Iam Javvadi Sai Krishna.\n",
      "I done my Bachelors at Lovely Professional University.\n",
      "Iam working as analyst in Capgemini Technology Solutions India Private Limited Since 8 months.\n",
      "My Hobbies are Playing cricket,surfing internet,watching mythology movies.\n"
     ]
    }
   ],
   "source": [
    "#File Open,Write,Read,Append\n",
    "fileptr = open(\"open.txt\",\"w+\")\n",
    "fileptr.write(\"Iam Javvadi Sai Krishna.\\nI done my Bachelors at Lovely Professional University.\\nIam working as analyst in Capgemini Technology Solutions India Private Limited Since 8 months.\")\n",
    "fileptr = open(\"open.txt\",\"a+\")\n",
    "fileptr.write(\"\\nMy Hobbies are Playing cricket,surfing internet,watching mythology movies.\")\n",
    "fileptr = open(\"open.txt\",\"r+\")\n",
    "content=fileptr.read()\n",
    "print(content)\n",
    "fileptr.close()"
   ]
  },
  {
   "cell_type": "code",
   "execution_count": 2,
   "metadata": {},
   "outputs": [
    {
     "name": "stdout",
     "output_type": "stream",
     "text": [
      "Iam Javvadi Sai Krishna.\n",
      "I done my Bachelors at Lo\n"
     ]
    }
   ],
   "source": [
    "# Using with operator with files\n",
    "with open(\"open.txt\",\"r\") as o:\n",
    "    display = o.read(50)\n",
    "    print(display)"
   ]
  },
  {
   "cell_type": "code",
   "execution_count": 3,
   "metadata": {},
   "outputs": [
    {
     "name": "stdout",
     "output_type": "stream",
     "text": [
      "Iam Javvadi Sai Krishna.\n",
      "\n",
      "I done my Bachelors at Lovely Professional University.\n",
      "\n",
      "Iam working as analyst in Capgemini Technology Solutions India Private Limited Since 8 months.\n",
      "\n",
      "My Hobbies are Playing cricket,surfing internet,watching mythology movies.\n"
     ]
    }
   ],
   "source": [
    "#Read file through for loop\n",
    "with open(\"open.txt\") as o:\n",
    "    for i in o:\n",
    "        print(i)"
   ]
  },
  {
   "cell_type": "code",
   "execution_count": 4,
   "metadata": {},
   "outputs": [
    {
     "name": "stdout",
     "output_type": "stream",
     "text": [
      "Iam Javvadi Sai Krishna.\n",
      "\n",
      "I done my Bachelors at Lovely Professional University.\n",
      "\n",
      "['Iam working as analyst in Capgemini Technology Solutions India Private Limited Since 8 months.\\n', 'My Hobbies are Playing cricket,surfing internet,watching mythology movies.']\n"
     ]
    }
   ],
   "source": [
    "#Readline() : Used to read a file line by line\n",
    "#Readlines() : Used to read a file till the end of the file and stores in list format\n",
    "with open(\"open.txt\") as o:\n",
    "    print(o.readline())\n",
    "    print(o.readline())\n",
    "    print(o.readlines())\n",
    "    "
   ]
  },
  {
   "cell_type": "code",
   "execution_count": 5,
   "metadata": {},
   "outputs": [
    {
     "name": "stdout",
     "output_type": "stream",
     "text": [
      "252\n",
      "180\n"
     ]
    }
   ],
   "source": [
    "#tell() : know the fileptr position\n",
    "#seek() : change the fileptr position\n",
    "with open(\"open.txt\",'a') as o:\n",
    "    print(o.tell())\n",
    "    o.seek(180)\n",
    "    print(o.tell())"
   ]
  },
  {
   "cell_type": "code",
   "execution_count": 6,
   "metadata": {},
   "outputs": [],
   "source": [
    "#import os\n",
    "#os.rename(\"Files.ipynb\",\"Files_Operations.ipynb\")"
   ]
  },
  {
   "cell_type": "code",
   "execution_count": 7,
   "metadata": {},
   "outputs": [],
   "source": [
    "#import os\n",
    "#os.remove(\"delete.txt\")"
   ]
  },
  {
   "cell_type": "code",
   "execution_count": 8,
   "metadata": {},
   "outputs": [],
   "source": [
    "#directories\n",
    "#os.mkdir(\"new\")\n",
    "# os.chdir('C:\\\\Users\\\\sajavvad\\\\Documents\\\\Python Learning')\n",
    "# os.getcwd()\n",
    "# os.rmdir('new')"
   ]
  }
 ],
 "metadata": {
  "kernelspec": {
   "display_name": "Python 3",
   "language": "python",
   "name": "python3"
  },
  "language_info": {
   "codemirror_mode": {
    "name": "ipython",
    "version": 3
   },
   "file_extension": ".py",
   "mimetype": "text/x-python",
   "name": "python",
   "nbconvert_exporter": "python",
   "pygments_lexer": "ipython3",
   "version": "3.6.4"
  }
 },
 "nbformat": 4,
 "nbformat_minor": 2
}
